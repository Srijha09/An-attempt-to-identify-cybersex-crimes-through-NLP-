{
  "nbformat": 4,
  "nbformat_minor": 0,
  "metadata": {
    "colab": {
      "name": "Sexual Abuse.ipynb",
      "provenance": [],
      "collapsed_sections": [],
      "toc_visible": true
    },
    "kernelspec": {
      "name": "python3",
      "display_name": "Python 3"
    },
    "accelerator": "GPU"
  },
  "cells": [
    {
      "cell_type": "code",
      "metadata": {
        "id": "6eLC675EQ1Io",
        "colab_type": "code",
        "outputId": "789f6709-4fab-4940-f3c2-ed2fccaf27b2",
        "colab": {
          "base_uri": "https://localhost:8080/",
          "height": 122
        }
      },
      "source": [
        "from google.colab import drive\n",
        "drive.mount('/content/drive')"
      ],
      "execution_count": 0,
      "outputs": [
        {
          "output_type": "stream",
          "text": [
            "Go to this URL in a browser: https://accounts.google.com/o/oauth2/auth?client_id=947318989803-6bn6qk8qdgf4n4g3pfee6491hc0brc4i.apps.googleusercontent.com&redirect_uri=urn%3aietf%3awg%3aoauth%3a2.0%3aoob&response_type=code&scope=email%20https%3a%2f%2fwww.googleapis.com%2fauth%2fdocs.test%20https%3a%2f%2fwww.googleapis.com%2fauth%2fdrive%20https%3a%2f%2fwww.googleapis.com%2fauth%2fdrive.photos.readonly%20https%3a%2f%2fwww.googleapis.com%2fauth%2fpeopleapi.readonly\n",
            "\n",
            "Enter your authorization code:\n",
            "··········\n",
            "Mounted at /content/drive\n"
          ],
          "name": "stdout"
        }
      ]
    },
    {
      "cell_type": "code",
      "metadata": {
        "id": "DZV31RWN201D",
        "colab_type": "code",
        "outputId": "e423a768-782d-4683-c483-9926c1a05c78",
        "colab": {
          "base_uri": "https://localhost:8080/",
          "height": 136
        }
      },
      "source": [
        "!pip install nltk\n",
        "import nltk\n",
        "nltk.download('stopwords')\n",
        "nltk.download('wordnet')"
      ],
      "execution_count": 0,
      "outputs": [
        {
          "output_type": "stream",
          "text": [
            "Requirement already satisfied: nltk in /usr/local/lib/python3.6/dist-packages (3.2.5)\n",
            "Requirement already satisfied: six in /usr/local/lib/python3.6/dist-packages (from nltk) (1.12.0)\n",
            "[nltk_data] Downloading package stopwords to /root/nltk_data...\n",
            "[nltk_data]   Unzipping corpora/stopwords.zip.\n",
            "[nltk_data] Downloading package wordnet to /root/nltk_data...\n",
            "[nltk_data]   Unzipping corpora/wordnet.zip.\n"
          ],
          "name": "stdout"
        },
        {
          "output_type": "execute_result",
          "data": {
            "text/plain": [
              "True"
            ]
          },
          "metadata": {
            "tags": []
          },
          "execution_count": 2
        }
      ]
    },
    {
      "cell_type": "code",
      "metadata": {
        "id": "QrmBlT3G2hw0",
        "colab_type": "code",
        "outputId": "4e9fe8e3-4b93-4924-fa28-a6a64d7d4701",
        "colab": {
          "base_uri": "https://localhost:8080/",
          "height": 34
        }
      },
      "source": [
        "import pandas as pd\n",
        "import numpy as np\n",
        "import gensim\n",
        "from textblob import TextBlob\n",
        "import json\n",
        "import re\n",
        "import itertools\n",
        "import csv\n",
        "import re\n",
        "import nltk\n",
        "from nltk.stem import WordNetLemmatizer\n",
        "\n",
        "from keras.callbacks import EarlyStopping, ModelCheckpoint\n",
        "from keras.utils.vis_utils import plot_model\n",
        "from nltk.tokenize import word_tokenize\n",
        "from nltk.stem import PorterStemmer\n",
        "from keras.preprocessing.text import Tokenizer\n",
        "from keras.utils.vis_utils import plot_model\n",
        "import keras.utils\n",
        "from keras import utils as np_utils"
      ],
      "execution_count": 0,
      "outputs": [
        {
          "output_type": "stream",
          "text": [
            "Using TensorFlow backend.\n"
          ],
          "name": "stderr"
        }
      ]
    },
    {
      "cell_type": "code",
      "metadata": {
        "id": "TqRVTkCKOB-C",
        "colab_type": "code",
        "colab": {}
      },
      "source": [
        "from keras.models import Sequential, Model\n",
        "from keras.layers import Dense, Dropout, Embedding, LSTM, Input, Activation, GlobalAveragePooling1D, Flatten, Concatenate, Conv1D, MaxPooling1D\n",
        "from keras.layers.normalization import BatchNormalization\n",
        "from keras.layers.merge import concatenate\n",
        "from keras.optimizers import SGD, RMSprop, Adagrad, Adam\n",
        "from keras.preprocessing.text import one_hot, text_to_word_sequence, Tokenizer\n",
        "from keras.preprocessing.sequence import pad_sequences\n",
        "\n",
        "from keras.callbacks import EarlyStopping, ModelCheckpoint\n",
        "from keras.utils.vis_utils import plot_model\n",
        "\n",
        "import fnmatch\n",
        "\n",
        "import warnings\n",
        "\n",
        "import string\n",
        "from pathlib import Path\n",
        "from random import shuffle\n",
        "from ast import literal_eval\n",
        "\n",
        "warnings.filterwarnings('ignore')"
      ],
      "execution_count": 0,
      "outputs": []
    },
    {
      "cell_type": "code",
      "metadata": {
        "id": "3MXKdNPJpu_l",
        "colab_type": "code",
        "colab": {}
      },
      "source": [
        "WINDOWS_SIZE = 100\n",
        "labels=['predator','non-predator']\n",
        "num_classes = len(labels)"
      ],
      "execution_count": 0,
      "outputs": []
    },
    {
      "cell_type": "markdown",
      "metadata": {
        "id": "AObIVQGNlBRt",
        "colab_type": "text"
      },
      "source": [
        "## Loading the xml converted csv file"
      ]
    },
    {
      "cell_type": "code",
      "metadata": {
        "id": "2_nZcWkc34NH",
        "colab_type": "code",
        "outputId": "75d5351f-8c54-4891-91cf-ce00b28fc915",
        "colab": {
          "base_uri": "https://localhost:8080/",
          "height": 359
        }
      },
      "source": [
        "pan_data = pd.read_csv(r'/content/drive/My Drive/pan.csv',encoding='latin1')\n",
        "pan_data.sample(10)"
      ],
      "execution_count": 0,
      "outputs": [
        {
          "output_type": "execute_result",
          "data": {
            "text/html": [
              "<div>\n",
              "<style scoped>\n",
              "    .dataframe tbody tr th:only-of-type {\n",
              "        vertical-align: middle;\n",
              "    }\n",
              "\n",
              "    .dataframe tbody tr th {\n",
              "        vertical-align: top;\n",
              "    }\n",
              "\n",
              "    .dataframe thead th {\n",
              "        text-align: right;\n",
              "    }\n",
              "</style>\n",
              "<table border=\"1\" class=\"dataframe\">\n",
              "  <thead>\n",
              "    <tr style=\"text-align: right;\">\n",
              "      <th></th>\n",
              "      <th>id</th>\n",
              "      <th>line</th>\n",
              "      <th>author</th>\n",
              "      <th>time</th>\n",
              "      <th>text</th>\n",
              "    </tr>\n",
              "  </thead>\n",
              "  <tbody>\n",
              "    <tr>\n",
              "      <th>26685</th>\n",
              "      <td>0c505c796b9688c77f9666f82c4d3419</td>\n",
              "      <td>2</td>\n",
              "      <td>a85b5641fcc96b5f23be0dbde9681957</td>\n",
              "      <td>21:13</td>\n",
              "      <td>asl</td>\n",
              "    </tr>\n",
              "    <tr>\n",
              "      <th>464926</th>\n",
              "      <td>9423d47d1645d76e1521095a04fdc7bd</td>\n",
              "      <td>5</td>\n",
              "      <td>828997d3329f6368569d69d0d2baa3e6</td>\n",
              "      <td>11:05</td>\n",
              "      <td>type ctrl-r, &amp;quot; at the search prompt</td>\n",
              "    </tr>\n",
              "    <tr>\n",
              "      <th>264787</th>\n",
              "      <td>519ff2164ba06effda4e44c1b27fd1c1</td>\n",
              "      <td>23</td>\n",
              "      <td>6e52db3e4ee1db0c1691ae6bcdc7ea1d</td>\n",
              "      <td>10:09</td>\n",
              "      <td>cause i am</td>\n",
              "    </tr>\n",
              "    <tr>\n",
              "      <th>477957</th>\n",
              "      <td>f5c45c9a6aad3c90b2899200142d5b51</td>\n",
              "      <td>27</td>\n",
              "      <td>98b94e5cd9b265939c3c40c3f86acd80</td>\n",
              "      <td>15:19</td>\n",
              "      <td>i would personally just do:  iptables -A INPUT...</td>\n",
              "    </tr>\n",
              "    <tr>\n",
              "      <th>448016</th>\n",
              "      <td>560c4c0733b8d84472b1349dd9ec99e7</td>\n",
              "      <td>34</td>\n",
              "      <td>52007f5916ff1b5ae0d4a4c5a72e6a0f</td>\n",
              "      <td>06:33</td>\n",
              "      <td>he lives with me just me and him</td>\n",
              "    </tr>\n",
              "    <tr>\n",
              "      <th>314486</th>\n",
              "      <td>e492e3df95ad68bc1840490ee02841ce</td>\n",
              "      <td>3</td>\n",
              "      <td>b8810fee2f4a71f849f3f7409546d1d9</td>\n",
              "      <td>13:08</td>\n",
              "      <td>f4dfad803df83144a5be86d9bca87678: I can take a...</td>\n",
              "    </tr>\n",
              "    <tr>\n",
              "      <th>627745</th>\n",
              "      <td>5a0c2be0d405d89cea498886e2ae8325</td>\n",
              "      <td>13</td>\n",
              "      <td>4fdcd110ffb90955e2fd546396d339a0</td>\n",
              "      <td>16:13</td>\n",
              "      <td>Location?</td>\n",
              "    </tr>\n",
              "    <tr>\n",
              "      <th>59234</th>\n",
              "      <td>8dfb481419613074b35c23184ba8deab</td>\n",
              "      <td>16</td>\n",
              "      <td>97a7ab2992aef4fef68d7ce729a48be5</td>\n",
              "      <td>16:51</td>\n",
              "      <td>im f</td>\n",
              "    </tr>\n",
              "    <tr>\n",
              "      <th>673247</th>\n",
              "      <td>432d36d538259e125e4540a11802e1b2</td>\n",
              "      <td>7</td>\n",
              "      <td>0c1cea012c66392e027d8f40f3d71a51</td>\n",
              "      <td>04:40</td>\n",
              "      <td>?</td>\n",
              "    </tr>\n",
              "    <tr>\n",
              "      <th>833489</th>\n",
              "      <td>c4f976da89385fcf3f303b2aed11a0f1</td>\n",
              "      <td>18</td>\n",
              "      <td>e0ec7e5d4a0224c7f2447d8fd4786c20</td>\n",
              "      <td>05:50</td>\n",
              "      <td>i eagerly lick your dripping twat and i then s...</td>\n",
              "    </tr>\n",
              "  </tbody>\n",
              "</table>\n",
              "</div>"
            ],
            "text/plain": [
              "                                      id  ...                                               text\n",
              "26685   0c505c796b9688c77f9666f82c4d3419  ...                                                asl\n",
              "464926  9423d47d1645d76e1521095a04fdc7bd  ...           type ctrl-r, &quot; at the search prompt\n",
              "264787  519ff2164ba06effda4e44c1b27fd1c1  ...                                         cause i am\n",
              "477957  f5c45c9a6aad3c90b2899200142d5b51  ...  i would personally just do:  iptables -A INPUT...\n",
              "448016  560c4c0733b8d84472b1349dd9ec99e7  ...                   he lives with me just me and him\n",
              "314486  e492e3df95ad68bc1840490ee02841ce  ...  f4dfad803df83144a5be86d9bca87678: I can take a...\n",
              "627745  5a0c2be0d405d89cea498886e2ae8325  ...                                          Location?\n",
              "59234   8dfb481419613074b35c23184ba8deab  ...                                               im f\n",
              "673247  432d36d538259e125e4540a11802e1b2  ...                                                  ?\n",
              "833489  c4f976da89385fcf3f303b2aed11a0f1  ...  i eagerly lick your dripping twat and i then s...\n",
              "\n",
              "[10 rows x 5 columns]"
            ]
          },
          "metadata": {
            "tags": []
          },
          "execution_count": 17
        }
      ]
    },
    {
      "cell_type": "code",
      "metadata": {
        "id": "5l0ZEtgq4DBG",
        "colab_type": "code",
        "outputId": "ed9499d2-e30d-4eb1-fba8-8ccdf9150142",
        "colab": {
          "base_uri": "https://localhost:8080/",
          "height": 221
        }
      },
      "source": [
        "pan_data.info()"
      ],
      "execution_count": 0,
      "outputs": [
        {
          "output_type": "stream",
          "text": [
            "<class 'pandas.core.frame.DataFrame'>\n",
            "RangeIndex: 903607 entries, 0 to 903606\n",
            "Data columns (total 5 columns):\n",
            " #   Column  Non-Null Count   Dtype \n",
            "---  ------  --------------   ----- \n",
            " 0   id      903607 non-null  object\n",
            " 1   line    903607 non-null  int64 \n",
            " 2   author  903607 non-null  object\n",
            " 3   time    903607 non-null  object\n",
            " 4   text    900629 non-null  object\n",
            "dtypes: int64(1), object(4)\n",
            "memory usage: 34.5+ MB\n"
          ],
          "name": "stdout"
        }
      ]
    },
    {
      "cell_type": "code",
      "metadata": {
        "id": "s9kL96T9466-",
        "colab_type": "code",
        "outputId": "717487b8-828f-402b-b842-32b59717c7a3",
        "colab": {
          "base_uri": "https://localhost:8080/",
          "height": 34
        }
      },
      "source": [
        "pan_data['text'].replace('', np.nan, inplace=True)\n",
        "pan_data.dropna(subset = [\"text\"], inplace=True)\n",
        "pan_data.reset_index(drop=True, inplace=True)\n",
        "len(pan_data)"
      ],
      "execution_count": 0,
      "outputs": [
        {
          "output_type": "execute_result",
          "data": {
            "text/plain": [
              "900629"
            ]
          },
          "metadata": {
            "tags": []
          },
          "execution_count": 19
        }
      ]
    },
    {
      "cell_type": "code",
      "metadata": {
        "id": "WS26eE7ePrBn",
        "colab_type": "code",
        "outputId": "b7a4583f-2d14-4166-c6b8-7b44c5c82b93",
        "colab": {
          "base_uri": "https://localhost:8080/",
          "height": 204
        }
      },
      "source": [
        "pan_data['word_count'] = pan_data['text'].apply(lambda x: len(str(x).split(\" \")))\n",
        "pan_data[['text','word_count']].head()"
      ],
      "execution_count": 0,
      "outputs": [
        {
          "output_type": "execute_result",
          "data": {
            "text/html": [
              "<div>\n",
              "<style scoped>\n",
              "    .dataframe tbody tr th:only-of-type {\n",
              "        vertical-align: middle;\n",
              "    }\n",
              "\n",
              "    .dataframe tbody tr th {\n",
              "        vertical-align: top;\n",
              "    }\n",
              "\n",
              "    .dataframe thead th {\n",
              "        text-align: right;\n",
              "    }\n",
              "</style>\n",
              "<table border=\"1\" class=\"dataframe\">\n",
              "  <thead>\n",
              "    <tr style=\"text-align: right;\">\n",
              "      <th></th>\n",
              "      <th>text</th>\n",
              "      <th>word_count</th>\n",
              "    </tr>\n",
              "  </thead>\n",
              "  <tbody>\n",
              "    <tr>\n",
              "      <th>0</th>\n",
              "      <td>Hola.</td>\n",
              "      <td>1</td>\n",
              "    </tr>\n",
              "    <tr>\n",
              "      <th>1</th>\n",
              "      <td>hi.</td>\n",
              "      <td>1</td>\n",
              "    </tr>\n",
              "    <tr>\n",
              "      <th>2</th>\n",
              "      <td>whats up?</td>\n",
              "      <td>2</td>\n",
              "    </tr>\n",
              "    <tr>\n",
              "      <th>3</th>\n",
              "      <td>not a ton.</td>\n",
              "      <td>3</td>\n",
              "    </tr>\n",
              "    <tr>\n",
              "      <th>4</th>\n",
              "      <td>you?</td>\n",
              "      <td>1</td>\n",
              "    </tr>\n",
              "  </tbody>\n",
              "</table>\n",
              "</div>"
            ],
            "text/plain": [
              "         text  word_count\n",
              "0       Hola.           1\n",
              "1         hi.           1\n",
              "2   whats up?           2\n",
              "3  not a ton.           3\n",
              "4        you?           1"
            ]
          },
          "metadata": {
            "tags": []
          },
          "execution_count": 20
        }
      ]
    },
    {
      "cell_type": "code",
      "metadata": {
        "id": "O1e5p1DLQl9D",
        "colab_type": "code",
        "outputId": "8c01c77f-5292-4e79-b75f-e84c69793d48",
        "colab": {
          "base_uri": "https://localhost:8080/",
          "height": 204
        }
      },
      "source": [
        "pan_data['char_count'] = pan_data['text'].str.len() ## this also includes spaces\n",
        "pan_data[['text','char_count']].head()"
      ],
      "execution_count": 0,
      "outputs": [
        {
          "output_type": "execute_result",
          "data": {
            "text/html": [
              "<div>\n",
              "<style scoped>\n",
              "    .dataframe tbody tr th:only-of-type {\n",
              "        vertical-align: middle;\n",
              "    }\n",
              "\n",
              "    .dataframe tbody tr th {\n",
              "        vertical-align: top;\n",
              "    }\n",
              "\n",
              "    .dataframe thead th {\n",
              "        text-align: right;\n",
              "    }\n",
              "</style>\n",
              "<table border=\"1\" class=\"dataframe\">\n",
              "  <thead>\n",
              "    <tr style=\"text-align: right;\">\n",
              "      <th></th>\n",
              "      <th>text</th>\n",
              "      <th>char_count</th>\n",
              "    </tr>\n",
              "  </thead>\n",
              "  <tbody>\n",
              "    <tr>\n",
              "      <th>0</th>\n",
              "      <td>Hola.</td>\n",
              "      <td>5</td>\n",
              "    </tr>\n",
              "    <tr>\n",
              "      <th>1</th>\n",
              "      <td>hi.</td>\n",
              "      <td>3</td>\n",
              "    </tr>\n",
              "    <tr>\n",
              "      <th>2</th>\n",
              "      <td>whats up?</td>\n",
              "      <td>9</td>\n",
              "    </tr>\n",
              "    <tr>\n",
              "      <th>3</th>\n",
              "      <td>not a ton.</td>\n",
              "      <td>10</td>\n",
              "    </tr>\n",
              "    <tr>\n",
              "      <th>4</th>\n",
              "      <td>you?</td>\n",
              "      <td>4</td>\n",
              "    </tr>\n",
              "  </tbody>\n",
              "</table>\n",
              "</div>"
            ],
            "text/plain": [
              "         text  char_count\n",
              "0       Hola.           5\n",
              "1         hi.           3\n",
              "2   whats up?           9\n",
              "3  not a ton.          10\n",
              "4        you?           4"
            ]
          },
          "metadata": {
            "tags": []
          },
          "execution_count": 21
        }
      ]
    },
    {
      "cell_type": "code",
      "metadata": {
        "id": "jAHdplQdQ9dh",
        "colab_type": "code",
        "outputId": "ef81fa36-b84b-4d00-fb48-257769524128",
        "colab": {
          "base_uri": "https://localhost:8080/",
          "height": 204
        }
      },
      "source": [
        "from nltk.corpus import stopwords\n",
        "stop = stopwords.words('english')\n",
        "\n",
        "pan_data['stopwords'] = pan_data['text'].apply(lambda x: len([x for x in x.split() if x in stop]))\n",
        "pan_data[['text','stopwords']].head()"
      ],
      "execution_count": 0,
      "outputs": [
        {
          "output_type": "execute_result",
          "data": {
            "text/html": [
              "<div>\n",
              "<style scoped>\n",
              "    .dataframe tbody tr th:only-of-type {\n",
              "        vertical-align: middle;\n",
              "    }\n",
              "\n",
              "    .dataframe tbody tr th {\n",
              "        vertical-align: top;\n",
              "    }\n",
              "\n",
              "    .dataframe thead th {\n",
              "        text-align: right;\n",
              "    }\n",
              "</style>\n",
              "<table border=\"1\" class=\"dataframe\">\n",
              "  <thead>\n",
              "    <tr style=\"text-align: right;\">\n",
              "      <th></th>\n",
              "      <th>text</th>\n",
              "      <th>stopwords</th>\n",
              "    </tr>\n",
              "  </thead>\n",
              "  <tbody>\n",
              "    <tr>\n",
              "      <th>0</th>\n",
              "      <td>Hola.</td>\n",
              "      <td>0</td>\n",
              "    </tr>\n",
              "    <tr>\n",
              "      <th>1</th>\n",
              "      <td>hi.</td>\n",
              "      <td>0</td>\n",
              "    </tr>\n",
              "    <tr>\n",
              "      <th>2</th>\n",
              "      <td>whats up?</td>\n",
              "      <td>0</td>\n",
              "    </tr>\n",
              "    <tr>\n",
              "      <th>3</th>\n",
              "      <td>not a ton.</td>\n",
              "      <td>2</td>\n",
              "    </tr>\n",
              "    <tr>\n",
              "      <th>4</th>\n",
              "      <td>you?</td>\n",
              "      <td>0</td>\n",
              "    </tr>\n",
              "  </tbody>\n",
              "</table>\n",
              "</div>"
            ],
            "text/plain": [
              "         text  stopwords\n",
              "0       Hola.          0\n",
              "1         hi.          0\n",
              "2   whats up?          0\n",
              "3  not a ton.          2\n",
              "4        you?          0"
            ]
          },
          "metadata": {
            "tags": []
          },
          "execution_count": 22
        }
      ]
    },
    {
      "cell_type": "markdown",
      "metadata": {
        "id": "IJm2vCjSRh52",
        "colab_type": "text"
      },
      "source": [
        "## Removing Punctuation"
      ]
    },
    {
      "cell_type": "code",
      "metadata": {
        "id": "V_2_CgT-RUQQ",
        "colab_type": "code",
        "outputId": "8780c44b-4ce3-4e73-9a0b-d5519c1e24df",
        "colab": {
          "base_uri": "https://localhost:8080/",
          "height": 119
        }
      },
      "source": [
        "pan_data['text'] = pan_data['text'].str.replace('[^\\w\\s]','')\n",
        "pan_data['text'].head()"
      ],
      "execution_count": 0,
      "outputs": [
        {
          "output_type": "execute_result",
          "data": {
            "text/plain": [
              "0         Hola\n",
              "1           hi\n",
              "2     whats up\n",
              "3    not a ton\n",
              "4          you\n",
              "Name: text, dtype: object"
            ]
          },
          "metadata": {
            "tags": []
          },
          "execution_count": 23
        }
      ]
    },
    {
      "cell_type": "markdown",
      "metadata": {
        "id": "OLQauW4NdC37",
        "colab_type": "text"
      },
      "source": [
        "### Removing the words that occured less than 10 times"
      ]
    },
    {
      "cell_type": "code",
      "metadata": {
        "id": "UgoROmqJSQ38",
        "colab_type": "code",
        "outputId": "7c06b279-6575-4ddd-b7d9-171f485981b5",
        "colab": {
          "base_uri": "https://localhost:8080/",
          "height": 221
        }
      },
      "source": [
        "freq = pd.Series(' '.join(pan_data['text']).split()).value_counts()[-500:]\n",
        "freq"
      ],
      "execution_count": 0,
      "outputs": [
        {
          "output_type": "execute_result",
          "data": {
            "text/plain": [
              "warrantee                      1\n",
              "traverses                      1\n",
              "Woww                           1\n",
              "icab                           1\n",
              "authentation                   1\n",
              "                              ..\n",
              "aposaposapos__aposapos         1\n",
              "myLayoutgtaddWidgetwhatever    1\n",
              "6296435                        1\n",
              "coursedo                       1\n",
              "defeintiely                    1\n",
              "Length: 500, dtype: int64"
            ]
          },
          "metadata": {
            "tags": []
          },
          "execution_count": 24
        }
      ]
    },
    {
      "cell_type": "code",
      "metadata": {
        "id": "B1cH_Gkan2ku",
        "colab_type": "code",
        "outputId": "cf98b662-9d19-4e16-f9be-0d5cf32929e0",
        "colab": {
          "base_uri": "https://localhost:8080/",
          "height": 119
        }
      },
      "source": [
        "freq = list(freq.index)\n",
        "pan_data['text_clean'] = pan_data['text'].apply(lambda x: \" \".join(x for x in x.split() if x not in freq))\n",
        "pan_data['text_clean'].head()"
      ],
      "execution_count": 0,
      "outputs": [
        {
          "output_type": "execute_result",
          "data": {
            "text/plain": [
              "0         Hola\n",
              "1           hi\n",
              "2     whats up\n",
              "3    not a ton\n",
              "4          you\n",
              "Name: text_clean, dtype: object"
            ]
          },
          "metadata": {
            "tags": []
          },
          "execution_count": 25
        }
      ]
    },
    {
      "cell_type": "markdown",
      "metadata": {
        "id": "yR9qSz70lJO0",
        "colab_type": "text"
      },
      "source": [
        "## Changing slang text"
      ]
    },
    {
      "cell_type": "code",
      "metadata": {
        "id": "kY5EG0bjDxAR",
        "colab_type": "code",
        "colab": {}
      },
      "source": [
        "#pan_data['text_clean']= pan_data['text_clean'].apply(lambda x: str(TextBlob(x).correct()))"
      ],
      "execution_count": 0,
      "outputs": []
    },
    {
      "cell_type": "code",
      "metadata": {
        "id": "P6LQu0dI5Xuo",
        "colab_type": "code",
        "colab": {}
      },
      "source": [
        "misspell_dict = {\"aren't\": \"are not\", \"can't\": \"cannot\", \"couldn't\": \"could not\",\"didn't\": \"did not\",\"doesn't\": \"does not\",\"don't\": \"do not\",\"hadn't\": \"had not\",\"hasn't\": \"has not\",\"haven't\": \"have not\", \"he'd\": \"he would\",\"he'll\": \"he will\",\"he's\": \"he is\",\n",
        "\"i'd\": \"I had\", \"i'll\": \"I will\",\"i'm\": \"I am\", \"isn't\": \"is not\",\"it's\": \"it is\", \"it'll\": \"it will\",\"i've\": \"I have\",\"let's\": \"let us\",\"mightn't\": \"might not\", \"mustn't\": \"must not\", \"shan't\": \"shall not\", \"she'd\": \"she would\", \"she'll\": \"she will\", \"she's\": \"she is\",\n",
        "\"shouldn't\": \"should not\", \"that's\": \"that is\", \"there's\": \"there is\",\"they'd\": \"they would\", \"they'll\": \"they will\", \"they're\": \"they are\",\"they've\": \"they have\",\"we'd\": \"we would\", \"we're\": \"we are\",\"weren't\": \"were not\", \"we've\": \"we have\", \"what'll\": \"what will\",\n",
        "\"what're\": \"what are\",\"what's\": \"what is\",\"what've\": \"what have\",\"where's\": \"where is\", \"who'd\": \"who would\", \"who'll\": \"who will\",\"who're\": \"who are\", \"who's\": \"who is\", \"who've\": \"who have\",\"wont\":\"will not\", \"won't\": \"will not\",\"wouldn't\": \"would not\", \"you'd\": \"you would\",\n",
        "\"you'll\": \"you will\",\"you're\": \"you are\",  \"you've\": \"you have\", \"wasn't\": \"was not\", \"we'll\": \"we will\", \"tryin'\":\"trying\", \"whatcha\":\"what are you\",\"luv\":\"love\",\"sux\":\"sucks\",\"y'all\":\"you all\", \"ain't\":\"is not\",\"amn't\":\"am not\",\"aren't\":\"are not\",\"can't\":\"cannot\", \"ain't\":\"is not\",\n",
        "\"amn't\":\"am not\",\"'cause\":\"because\",\"couldn't've\":\"could not have\",\"could've\":\"could have\",\"daren't\":\"dare not\",\"daresn't\":\"dare not\", \"dasn't\":\"dare not\",\"didn't\":\"did not\",\"doesn't\":\"does not\",\"don't\":\"do not\",\"e'er\":\"ever\",\"em\":\"them\",\"kinda\":\"kind of\",\"needn't\":\"need not\",\"ne'er\":\"never\",\n",
        "\"o'\":\"of\",\"o'er\":\"over\",\"ol'\":\"old\",\"everyone's\":\"everyone is\",\"finna\":\"fixing to\",\"gimme\":\"give me\",\"gonna\":\"going to\",\"gon't\":\"go not\",\"gotta\":\"got to\",\"I'm'a\":\"I am about to\",\"I'm'o\":\"I am going to\",\"isn't\":\"is not\",\"it'd\":\"it would\",\"it'll\":\"it will\",\"it's\":\"it is\",\"I've\":\"I have\",\n",
        "\"there'll\":\"there will\",\"there're\":\"there are\",\"these're\":\"these are\",\"they'd\":\"they would\",\"they'll\":\"they will\",\"they're\":\"they are\",\"they've\":\"they have\",\"this's\":\"this is\",\"those're\":\"those are\",\"'tis\":\"it is\",\"'twas\":\"it was\",\"wanna\":\"want to\"}\n",
        "\n",
        "def _get_misspell(misspell_dict):\n",
        "    misspell_re = re.compile('(%s)' % '|'.join(misspell_dict.keys()))\n",
        "    return misspell_dict, misspell_re\n",
        "\n",
        "\n",
        "def replace_typical_misspell(text):\n",
        "    misspellings, misspellings_re = _get_misspell(misspell_dict)\n",
        "\n",
        "    def replace(match):\n",
        "        return misspellings[match.group(0)]\n",
        "\n",
        "    return misspellings_re.sub(replace, str(text))"
      ],
      "execution_count": 0,
      "outputs": []
    },
    {
      "cell_type": "code",
      "metadata": {
        "id": "OH2SP8CF50_W",
        "colab_type": "code",
        "colab": {}
      },
      "source": [
        "pan_data['text_clean'] = pan_data['text_clean'].apply(lambda x : str(x).lower())\n",
        "pan_data['text_clean'] = pan_data['text_clean'].apply(replace_typical_misspell)"
      ],
      "execution_count": 0,
      "outputs": []
    },
    {
      "cell_type": "code",
      "metadata": {
        "id": "rmQsmKNRfbE6",
        "colab_type": "code",
        "outputId": "30e1106e-a3c9-441f-f573-efb2be467067",
        "colab": {
          "base_uri": "https://localhost:8080/",
          "height": 419
        }
      },
      "source": [
        "pan_data"
      ],
      "execution_count": 0,
      "outputs": [
        {
          "output_type": "execute_result",
          "data": {
            "text/html": [
              "<div>\n",
              "<style scoped>\n",
              "    .dataframe tbody tr th:only-of-type {\n",
              "        vertical-align: middle;\n",
              "    }\n",
              "\n",
              "    .dataframe tbody tr th {\n",
              "        vertical-align: top;\n",
              "    }\n",
              "\n",
              "    .dataframe thead th {\n",
              "        text-align: right;\n",
              "    }\n",
              "</style>\n",
              "<table border=\"1\" class=\"dataframe\">\n",
              "  <thead>\n",
              "    <tr style=\"text-align: right;\">\n",
              "      <th></th>\n",
              "      <th>id</th>\n",
              "      <th>line</th>\n",
              "      <th>author</th>\n",
              "      <th>time</th>\n",
              "      <th>text</th>\n",
              "      <th>word_count</th>\n",
              "      <th>char_count</th>\n",
              "      <th>stopwords</th>\n",
              "      <th>text_clean</th>\n",
              "    </tr>\n",
              "  </thead>\n",
              "  <tbody>\n",
              "    <tr>\n",
              "      <th>0</th>\n",
              "      <td>e621da5de598c9321a1d505ea95e6a2d</td>\n",
              "      <td>1</td>\n",
              "      <td>97964e7a9e8eb9cf78f2e4d7b2ff34c7</td>\n",
              "      <td>03:20</td>\n",
              "      <td>Hola</td>\n",
              "      <td>1</td>\n",
              "      <td>5</td>\n",
              "      <td>0</td>\n",
              "      <td>hola</td>\n",
              "    </tr>\n",
              "    <tr>\n",
              "      <th>1</th>\n",
              "      <td>e621da5de598c9321a1d505ea95e6a2d</td>\n",
              "      <td>2</td>\n",
              "      <td>0158d0d6781fc4d493f243d4caa49747</td>\n",
              "      <td>03:20</td>\n",
              "      <td>hi</td>\n",
              "      <td>1</td>\n",
              "      <td>3</td>\n",
              "      <td>0</td>\n",
              "      <td>hi</td>\n",
              "    </tr>\n",
              "    <tr>\n",
              "      <th>2</th>\n",
              "      <td>e621da5de598c9321a1d505ea95e6a2d</td>\n",
              "      <td>3</td>\n",
              "      <td>0158d0d6781fc4d493f243d4caa49747</td>\n",
              "      <td>03:20</td>\n",
              "      <td>whats up</td>\n",
              "      <td>2</td>\n",
              "      <td>9</td>\n",
              "      <td>0</td>\n",
              "      <td>whats up</td>\n",
              "    </tr>\n",
              "    <tr>\n",
              "      <th>3</th>\n",
              "      <td>e621da5de598c9321a1d505ea95e6a2d</td>\n",
              "      <td>4</td>\n",
              "      <td>97964e7a9e8eb9cf78f2e4d7b2ff34c7</td>\n",
              "      <td>03:20</td>\n",
              "      <td>not a ton</td>\n",
              "      <td>3</td>\n",
              "      <td>10</td>\n",
              "      <td>2</td>\n",
              "      <td>not a ton</td>\n",
              "    </tr>\n",
              "    <tr>\n",
              "      <th>4</th>\n",
              "      <td>e621da5de598c9321a1d505ea95e6a2d</td>\n",
              "      <td>5</td>\n",
              "      <td>97964e7a9e8eb9cf78f2e4d7b2ff34c7</td>\n",
              "      <td>03:20</td>\n",
              "      <td>you</td>\n",
              "      <td>1</td>\n",
              "      <td>4</td>\n",
              "      <td>0</td>\n",
              "      <td>you</td>\n",
              "    </tr>\n",
              "    <tr>\n",
              "      <th>...</th>\n",
              "      <td>...</td>\n",
              "      <td>...</td>\n",
              "      <td>...</td>\n",
              "      <td>...</td>\n",
              "      <td>...</td>\n",
              "      <td>...</td>\n",
              "      <td>...</td>\n",
              "      <td>...</td>\n",
              "      <td>...</td>\n",
              "    </tr>\n",
              "    <tr>\n",
              "      <th>900624</th>\n",
              "      <td>4ed6b02ae537fdfd6078597b706292a8</td>\n",
              "      <td>101</td>\n",
              "      <td>74bfc043bd5ce9c17b37ffae6e0ba2fa</td>\n",
              "      <td>22:36</td>\n",
              "      <td>oh ok</td>\n",
              "      <td>2</td>\n",
              "      <td>5</td>\n",
              "      <td>0</td>\n",
              "      <td>oh ok</td>\n",
              "    </tr>\n",
              "    <tr>\n",
              "      <th>900625</th>\n",
              "      <td>4ed6b02ae537fdfd6078597b706292a8</td>\n",
              "      <td>102</td>\n",
              "      <td>8cd850ea4215ee7c4b94b6bcc0bae593</td>\n",
              "      <td>22:36</td>\n",
              "      <td>i will look for you tomorrow</td>\n",
              "      <td>6</td>\n",
              "      <td>28</td>\n",
              "      <td>4</td>\n",
              "      <td>i will look for you tomorrow</td>\n",
              "    </tr>\n",
              "    <tr>\n",
              "      <th>900626</th>\n",
              "      <td>4ed6b02ae537fdfd6078597b706292a8</td>\n",
              "      <td>103</td>\n",
              "      <td>74bfc043bd5ce9c17b37ffae6e0ba2fa</td>\n",
              "      <td>22:36</td>\n",
              "      <td>ok</td>\n",
              "      <td>1</td>\n",
              "      <td>2</td>\n",
              "      <td>0</td>\n",
              "      <td>ok</td>\n",
              "    </tr>\n",
              "    <tr>\n",
              "      <th>900627</th>\n",
              "      <td>4ed6b02ae537fdfd6078597b706292a8</td>\n",
              "      <td>104</td>\n",
              "      <td>8cd850ea4215ee7c4b94b6bcc0bae593</td>\n",
              "      <td>22:36</td>\n",
              "      <td>bye lissa</td>\n",
              "      <td>2</td>\n",
              "      <td>9</td>\n",
              "      <td>0</td>\n",
              "      <td>bye lissa</td>\n",
              "    </tr>\n",
              "    <tr>\n",
              "      <th>900628</th>\n",
              "      <td>4ed6b02ae537fdfd6078597b706292a8</td>\n",
              "      <td>105</td>\n",
              "      <td>74bfc043bd5ce9c17b37ffae6e0ba2fa</td>\n",
              "      <td>22:37</td>\n",
              "      <td>bye jake</td>\n",
              "      <td>2</td>\n",
              "      <td>8</td>\n",
              "      <td>0</td>\n",
              "      <td>bye jake</td>\n",
              "    </tr>\n",
              "  </tbody>\n",
              "</table>\n",
              "<p>900629 rows × 9 columns</p>\n",
              "</div>"
            ],
            "text/plain": [
              "                                      id  ...                    text_clean\n",
              "0       e621da5de598c9321a1d505ea95e6a2d  ...                          hola\n",
              "1       e621da5de598c9321a1d505ea95e6a2d  ...                            hi\n",
              "2       e621da5de598c9321a1d505ea95e6a2d  ...                      whats up\n",
              "3       e621da5de598c9321a1d505ea95e6a2d  ...                     not a ton\n",
              "4       e621da5de598c9321a1d505ea95e6a2d  ...                           you\n",
              "...                                  ...  ...                           ...\n",
              "900624  4ed6b02ae537fdfd6078597b706292a8  ...                         oh ok\n",
              "900625  4ed6b02ae537fdfd6078597b706292a8  ...  i will look for you tomorrow\n",
              "900626  4ed6b02ae537fdfd6078597b706292a8  ...                            ok\n",
              "900627  4ed6b02ae537fdfd6078597b706292a8  ...                     bye lissa\n",
              "900628  4ed6b02ae537fdfd6078597b706292a8  ...                      bye jake\n",
              "\n",
              "[900629 rows x 9 columns]"
            ]
          },
          "metadata": {
            "tags": []
          },
          "execution_count": 29
        }
      ]
    },
    {
      "cell_type": "code",
      "metadata": {
        "id": "70pb-YmPFx0L",
        "colab_type": "code",
        "colab": {}
      },
      "source": [
        "def preprocess(ReviewText):\n",
        "    ReviewText = ReviewText.str.replace('(<a).*(>).*(</a>)', '')\n",
        "    ReviewText = ReviewText.str.replace('(&amp)', '')\n",
        "    ReviewText = ReviewText.str.replace('(&quote)', '')\n",
        "    ReviewText = ReviewText.str.replace('(&gt)', '')\n",
        "    ReviewText = ReviewText.str.replace('(&lt)', '')\n",
        "    ReviewText = ReviewText.str.replace('(\\xa0)', ' ')  \n",
        "    return ReviewText\n",
        "pan_data['text_clean'] = preprocess(pan_data['text_clean'])"
      ],
      "execution_count": 0,
      "outputs": []
    },
    {
      "cell_type": "code",
      "metadata": {
        "id": "0W6o_VstQwCY",
        "colab_type": "code",
        "outputId": "08936937-6bc4-49b9-cb8a-140697ee3316",
        "colab": {
          "base_uri": "https://localhost:8080/",
          "height": 359
        }
      },
      "source": [
        "pan_data.sample(10)"
      ],
      "execution_count": 0,
      "outputs": [
        {
          "output_type": "execute_result",
          "data": {
            "text/html": [
              "<div>\n",
              "<style scoped>\n",
              "    .dataframe tbody tr th:only-of-type {\n",
              "        vertical-align: middle;\n",
              "    }\n",
              "\n",
              "    .dataframe tbody tr th {\n",
              "        vertical-align: top;\n",
              "    }\n",
              "\n",
              "    .dataframe thead th {\n",
              "        text-align: right;\n",
              "    }\n",
              "</style>\n",
              "<table border=\"1\" class=\"dataframe\">\n",
              "  <thead>\n",
              "    <tr style=\"text-align: right;\">\n",
              "      <th></th>\n",
              "      <th>id</th>\n",
              "      <th>line</th>\n",
              "      <th>author</th>\n",
              "      <th>time</th>\n",
              "      <th>text</th>\n",
              "      <th>word_count</th>\n",
              "      <th>char_count</th>\n",
              "      <th>stopwords</th>\n",
              "      <th>text_clean</th>\n",
              "    </tr>\n",
              "  </thead>\n",
              "  <tbody>\n",
              "    <tr>\n",
              "      <th>293225</th>\n",
              "      <td>5d4469c8c89c17fae2c17d2352c140be</td>\n",
              "      <td>15</td>\n",
              "      <td>5f6edfe03efa62a63eebfb6f0d232020</td>\n",
              "      <td>22:37</td>\n",
              "      <td>iam located in the state of Maryland</td>\n",
              "      <td>7</td>\n",
              "      <td>36</td>\n",
              "      <td>3</td>\n",
              "      <td>iam located in the state of maryland</td>\n",
              "    </tr>\n",
              "    <tr>\n",
              "      <th>134817</th>\n",
              "      <td>eed6662a0039b6e8b16f58fe0969bcf7</td>\n",
              "      <td>4</td>\n",
              "      <td>d73b8031eacc1f22118865c048887b57</td>\n",
              "      <td>01:23</td>\n",
              "      <td>nope</td>\n",
              "      <td>1</td>\n",
              "      <td>4</td>\n",
              "      <td>0</td>\n",
              "      <td>nope</td>\n",
              "    </tr>\n",
              "    <tr>\n",
              "      <th>608608</th>\n",
              "      <td>ceb4ca07f0db086c9f40d434449609d7</td>\n",
              "      <td>42</td>\n",
              "      <td>9163a1ff41bead24cf2628c6baf88d01</td>\n",
              "      <td>19:03</td>\n",
              "      <td>too many perverts</td>\n",
              "      <td>3</td>\n",
              "      <td>17</td>\n",
              "      <td>1</td>\n",
              "      <td>too many perverts</td>\n",
              "    </tr>\n",
              "    <tr>\n",
              "      <th>572600</th>\n",
              "      <td>9918e5350906b5e82dc659a2a2b1ec3e</td>\n",
              "      <td>4</td>\n",
              "      <td>ee595f173473917f5cf2d4b6445c13e9</td>\n",
              "      <td>14:27</td>\n",
              "      <td>yer</td>\n",
              "      <td>1</td>\n",
              "      <td>3</td>\n",
              "      <td>0</td>\n",
              "      <td>yer</td>\n",
              "    </tr>\n",
              "    <tr>\n",
              "      <th>413411</th>\n",
              "      <td>9c74c64e76140e80f3d3ca37930161f9</td>\n",
              "      <td>15</td>\n",
              "      <td>ee4be2c1b14970c16e9b49c004c5335e</td>\n",
              "      <td>13:23</td>\n",
              "      <td>so do u want it</td>\n",
              "      <td>5</td>\n",
              "      <td>15</td>\n",
              "      <td>3</td>\n",
              "      <td>so do u want it</td>\n",
              "    </tr>\n",
              "    <tr>\n",
              "      <th>260400</th>\n",
              "      <td>1a4d5cd8add6408cfc4d1b1d1208ffd0</td>\n",
              "      <td>83</td>\n",
              "      <td>58869a2e5c3f0eab9aa398b0a798e354</td>\n",
              "      <td>15:34</td>\n",
              "      <td>httppastieorg965384</td>\n",
              "      <td>1</td>\n",
              "      <td>24</td>\n",
              "      <td>0</td>\n",
              "      <td>httppastieorg965384</td>\n",
              "    </tr>\n",
              "    <tr>\n",
              "      <th>695226</th>\n",
              "      <td>cc4e0197c0a37a0faad92c57c835b695</td>\n",
              "      <td>46</td>\n",
              "      <td>d08bbf205cc14c09d4e567440368da8f</td>\n",
              "      <td>00:10</td>\n",
              "      <td>Do u masterbate</td>\n",
              "      <td>3</td>\n",
              "      <td>15</td>\n",
              "      <td>0</td>\n",
              "      <td>do u masterbate</td>\n",
              "    </tr>\n",
              "    <tr>\n",
              "      <th>493607</th>\n",
              "      <td>5b06cb1154d8b1880b04fd9d03cb7041</td>\n",
              "      <td>38</td>\n",
              "      <td>4253ca4b169d14524f96264e68de4ee2</td>\n",
              "      <td>04:59</td>\n",
              "      <td>thts neat</td>\n",
              "      <td>2</td>\n",
              "      <td>9</td>\n",
              "      <td>0</td>\n",
              "      <td>thts neat</td>\n",
              "    </tr>\n",
              "    <tr>\n",
              "      <th>445826</th>\n",
              "      <td>b15b9d544c2361331c3d3d8db1aeb18c</td>\n",
              "      <td>19</td>\n",
              "      <td>52d8d282d4fa3d9698847619778cb628</td>\n",
              "      <td>06:54</td>\n",
              "      <td>asl</td>\n",
              "      <td>1</td>\n",
              "      <td>3</td>\n",
              "      <td>0</td>\n",
              "      <td>asl</td>\n",
              "    </tr>\n",
              "    <tr>\n",
              "      <th>557451</th>\n",
              "      <td>f455a611bc0c2e1f66d2fb180ff8b901</td>\n",
              "      <td>4</td>\n",
              "      <td>ea2202a9f28c42632526bbc3da5cf063</td>\n",
              "      <td>16:20</td>\n",
              "      <td>asl</td>\n",
              "      <td>1</td>\n",
              "      <td>5</td>\n",
              "      <td>0</td>\n",
              "      <td>asl</td>\n",
              "    </tr>\n",
              "  </tbody>\n",
              "</table>\n",
              "</div>"
            ],
            "text/plain": [
              "                                      id  ...                            text_clean\n",
              "293225  5d4469c8c89c17fae2c17d2352c140be  ...  iam located in the state of maryland\n",
              "134817  eed6662a0039b6e8b16f58fe0969bcf7  ...                                  nope\n",
              "608608  ceb4ca07f0db086c9f40d434449609d7  ...                     too many perverts\n",
              "572600  9918e5350906b5e82dc659a2a2b1ec3e  ...                                   yer\n",
              "413411  9c74c64e76140e80f3d3ca37930161f9  ...                       so do u want it\n",
              "260400  1a4d5cd8add6408cfc4d1b1d1208ffd0  ...                   httppastieorg965384\n",
              "695226  cc4e0197c0a37a0faad92c57c835b695  ...                       do u masterbate\n",
              "493607  5b06cb1154d8b1880b04fd9d03cb7041  ...                             thts neat\n",
              "445826  b15b9d544c2361331c3d3d8db1aeb18c  ...                                   asl\n",
              "557451  f455a611bc0c2e1f66d2fb180ff8b901  ...                                   asl\n",
              "\n",
              "[10 rows x 9 columns]"
            ]
          },
          "metadata": {
            "tags": []
          },
          "execution_count": 31
        }
      ]
    },
    {
      "cell_type": "code",
      "metadata": {
        "id": "oI5ig8jdprlD",
        "colab_type": "code",
        "outputId": "c1923bed-e735-46ad-ee56-bdf958b1d75f",
        "colab": {
          "base_uri": "https://localhost:8080/",
          "height": 34
        }
      },
      "source": [
        "pan_data['text_clean'].replace('', np.nan, inplace=True)\n",
        "pan_data.dropna(subset = [\"text_clean\"], inplace=True)\n",
        "pan_data.reset_index(drop=True, inplace=True)\n",
        "len(pan_data)"
      ],
      "execution_count": 0,
      "outputs": [
        {
          "output_type": "execute_result",
          "data": {
            "text/plain": [
              "880156"
            ]
          },
          "metadata": {
            "tags": []
          },
          "execution_count": 33
        }
      ]
    },
    {
      "cell_type": "markdown",
      "metadata": {
        "id": "JRJerLCX2p5-",
        "colab_type": "text"
      },
      "source": [
        "### Removing hastags"
      ]
    },
    {
      "cell_type": "code",
      "metadata": {
        "id": "Tx3kWLuipjvt",
        "colab_type": "code",
        "colab": {}
      },
      "source": [
        "def deepclean(text):\n",
        "  new_string1 = re.sub('[a-zA-Z][0-9]{30,}','', text) # Remove the words longer than 30 characters\n",
        "  new_string2 = re.sub('http[s]?://(?:[a-zA-Z]|[0-9]|[$-_@.&+] |[!*\\(\\), ]|(?:%[0-9a-fA-F][0-9a-fA-F]))+', '', new_string1) # remove URLs \n",
        "  new_string3 = new_string2.encode('ascii', 'ignore').decode('ascii') # removes all non-ascii characters\n",
        "  #new_string4 = ''.join(re.sub(\"[\\.\\,\\!\\?\\:\\;\\-\\=]\", \" \", new_string3).split())\n",
        "  new_string5 = new_string3.lower()\n",
        "\n",
        "  return new_string5\n",
        "  "
      ],
      "execution_count": 0,
      "outputs": []
    },
    {
      "cell_type": "code",
      "metadata": {
        "id": "0LyfdQ6kaogn",
        "colab_type": "code",
        "colab": {}
      },
      "source": [
        "pan_data['text_clean'] = pan_data.apply(lambda row: deepclean(row.text_clean), axis=1)"
      ],
      "execution_count": 0,
      "outputs": []
    },
    {
      "cell_type": "code",
      "metadata": {
        "id": "hX8LqyavQhTt",
        "colab_type": "code",
        "outputId": "50010cb7-998b-4367-bd6f-021a446db860",
        "colab": {
          "base_uri": "https://localhost:8080/",
          "height": 376
        }
      },
      "source": [
        "pan_data.sample(10)"
      ],
      "execution_count": 0,
      "outputs": [
        {
          "output_type": "execute_result",
          "data": {
            "text/html": [
              "<div>\n",
              "<style scoped>\n",
              "    .dataframe tbody tr th:only-of-type {\n",
              "        vertical-align: middle;\n",
              "    }\n",
              "\n",
              "    .dataframe tbody tr th {\n",
              "        vertical-align: top;\n",
              "    }\n",
              "\n",
              "    .dataframe thead th {\n",
              "        text-align: right;\n",
              "    }\n",
              "</style>\n",
              "<table border=\"1\" class=\"dataframe\">\n",
              "  <thead>\n",
              "    <tr style=\"text-align: right;\">\n",
              "      <th></th>\n",
              "      <th>id</th>\n",
              "      <th>line</th>\n",
              "      <th>author</th>\n",
              "      <th>time</th>\n",
              "      <th>text</th>\n",
              "      <th>word_count</th>\n",
              "      <th>char_count</th>\n",
              "      <th>stopwords</th>\n",
              "      <th>text_clean</th>\n",
              "    </tr>\n",
              "  </thead>\n",
              "  <tbody>\n",
              "    <tr>\n",
              "      <th>329482</th>\n",
              "      <td>508a3eb5831b0714543b6e64009e202f</td>\n",
              "      <td>52</td>\n",
              "      <td>5871a60fe02da4a52382ac454e3a1420</td>\n",
              "      <td>04:35</td>\n",
              "      <td>Itaposs right under her butt hole</td>\n",
              "      <td>7</td>\n",
              "      <td>38</td>\n",
              "      <td>2</td>\n",
              "      <td>itaposs right under her butt hole</td>\n",
              "    </tr>\n",
              "    <tr>\n",
              "      <th>405439</th>\n",
              "      <td>393d66dbc5a5b38e1c9f81577374c3d9</td>\n",
              "      <td>240</td>\n",
              "      <td>1e796ded59a56f729ecdf625e9007b7f</td>\n",
              "      <td>17:07</td>\n",
              "      <td>if u want to</td>\n",
              "      <td>4</td>\n",
              "      <td>12</td>\n",
              "      <td>2</td>\n",
              "      <td>if u want to</td>\n",
              "    </tr>\n",
              "    <tr>\n",
              "      <th>466321</th>\n",
              "      <td>cd5ca86984eef71fd291a766d50606c5</td>\n",
              "      <td>51</td>\n",
              "      <td>edb259c0e0038f38bb200bc20c8cbf7e</td>\n",
              "      <td>13:12</td>\n",
              "      <td>can arise</td>\n",
              "      <td>2</td>\n",
              "      <td>9</td>\n",
              "      <td>1</td>\n",
              "      <td>can arise</td>\n",
              "    </tr>\n",
              "    <tr>\n",
              "      <th>793411</th>\n",
              "      <td>9230b77091849682f5e099804051ec1d</td>\n",
              "      <td>12</td>\n",
              "      <td>94d50e2efa8ecc99acd742d7cdd18f4a</td>\n",
              "      <td>22:53</td>\n",
              "      <td>thats souseful</td>\n",
              "      <td>3</td>\n",
              "      <td>18</td>\n",
              "      <td>0</td>\n",
              "      <td>thats souseful</td>\n",
              "    </tr>\n",
              "    <tr>\n",
              "      <th>171173</th>\n",
              "      <td>729220291935e4cd9124fbfcd40b4ff5</td>\n",
              "      <td>111</td>\n",
              "      <td>961fc4821bc79eeb9991d658b181ae35</td>\n",
              "      <td>19:22</td>\n",
              "      <td>awwww</td>\n",
              "      <td>1</td>\n",
              "      <td>5</td>\n",
              "      <td>0</td>\n",
              "      <td>awwww</td>\n",
              "    </tr>\n",
              "    <tr>\n",
              "      <th>868233</th>\n",
              "      <td>a23b325461d108fa884c008c1480c9d7</td>\n",
              "      <td>60</td>\n",
              "      <td>14af4ca97e316b17ea96286dc6882fd4</td>\n",
              "      <td>21:46</td>\n",
              "      <td>I dont need this to be extensible so namespace...</td>\n",
              "      <td>13</td>\n",
              "      <td>72</td>\n",
              "      <td>6</td>\n",
              "      <td>i dont need this to be extensible so namespace...</td>\n",
              "    </tr>\n",
              "    <tr>\n",
              "      <th>3276</th>\n",
              "      <td>993e5d8871aa632237525e3c8fc245b7</td>\n",
              "      <td>2</td>\n",
              "      <td>83f45a26da9ec906b48f11b6ad30e45b</td>\n",
              "      <td>07:17</td>\n",
              "      <td>hi</td>\n",
              "      <td>1</td>\n",
              "      <td>2</td>\n",
              "      <td>0</td>\n",
              "      <td>hi</td>\n",
              "    </tr>\n",
              "    <tr>\n",
              "      <th>799522</th>\n",
              "      <td>c82b0b81c2e2c9f5e018ea665f265a30</td>\n",
              "      <td>1</td>\n",
              "      <td>02c7872d64996b921664199a53af8226</td>\n",
              "      <td>07:49</td>\n",
              "      <td>SgtJohnson try azureussupport</td>\n",
              "      <td>3</td>\n",
              "      <td>32</td>\n",
              "      <td>0</td>\n",
              "      <td>sgtjohnson try azureussupport</td>\n",
              "    </tr>\n",
              "    <tr>\n",
              "      <th>679710</th>\n",
              "      <td>80812a60e39ad1b9cbe64252b26d865b</td>\n",
              "      <td>67</td>\n",
              "      <td>8d56165e9ca5f4e76e9f121d6036bbe4</td>\n",
              "      <td>17:08</td>\n",
              "      <td>lol</td>\n",
              "      <td>1</td>\n",
              "      <td>3</td>\n",
              "      <td>0</td>\n",
              "      <td>lol</td>\n",
              "    </tr>\n",
              "    <tr>\n",
              "      <th>17265</th>\n",
              "      <td>61f6c3151bd60f5a39d0665062a1c185</td>\n",
              "      <td>4</td>\n",
              "      <td>1203e5a97b4c369293d03d87f7f8a1f5</td>\n",
              "      <td>16:54</td>\n",
              "      <td>a lot</td>\n",
              "      <td>2</td>\n",
              "      <td>5</td>\n",
              "      <td>1</td>\n",
              "      <td>a lot</td>\n",
              "    </tr>\n",
              "  </tbody>\n",
              "</table>\n",
              "</div>"
            ],
            "text/plain": [
              "                                      id  ...                                         text_clean\n",
              "329482  508a3eb5831b0714543b6e64009e202f  ...                  itaposs right under her butt hole\n",
              "405439  393d66dbc5a5b38e1c9f81577374c3d9  ...                                       if u want to\n",
              "466321  cd5ca86984eef71fd291a766d50606c5  ...                                          can arise\n",
              "793411  9230b77091849682f5e099804051ec1d  ...                                     thats souseful\n",
              "171173  729220291935e4cd9124fbfcd40b4ff5  ...                                              awwww\n",
              "868233  a23b325461d108fa884c008c1480c9d7  ...  i dont need this to be extensible so namespace...\n",
              "3276    993e5d8871aa632237525e3c8fc245b7  ...                                                 hi\n",
              "799522  c82b0b81c2e2c9f5e018ea665f265a30  ...                      sgtjohnson try azureussupport\n",
              "679710  80812a60e39ad1b9cbe64252b26d865b  ...                                                lol\n",
              "17265   61f6c3151bd60f5a39d0665062a1c185  ...                                              a lot\n",
              "\n",
              "[10 rows x 9 columns]"
            ]
          },
          "metadata": {
            "tags": []
          },
          "execution_count": 36
        }
      ]
    },
    {
      "cell_type": "markdown",
      "metadata": {
        "id": "b2IANzmOlwKI",
        "colab_type": "text"
      },
      "source": [
        "# Remove all emojis from the chats"
      ]
    },
    {
      "cell_type": "code",
      "metadata": {
        "id": "veMOjcq3lvX7",
        "colab_type": "code",
        "colab": {}
      },
      "source": [
        "def remove_emoji(string):\n",
        "    emoji_pattern = re.compile('(\\:\\w+\\:|\\<[\\/\\\\]?3|[\\(\\)\\\\\\D|\\*\\$][\\-\\^]?[\\:\\;\\=]|[\\:\\;\\=B8][\\-\\^]?[3DOPp\\@\\$\\*\\\\\\)\\(\\/\\|])(?=\\s|[\\!\\.\\?]|$)')\n",
        "    return emoji_pattern.sub(r'', string)"
      ],
      "execution_count": 0,
      "outputs": []
    },
    {
      "cell_type": "code",
      "metadata": {
        "id": "gKro1c44nrns",
        "colab_type": "code",
        "colab": {}
      },
      "source": [
        "pan_data['text_clean'] = pan_data.apply(lambda row: remove_emoji(row.text_clean), axis=1)"
      ],
      "execution_count": 0,
      "outputs": []
    },
    {
      "cell_type": "code",
      "metadata": {
        "id": "-nYKyDWhoBus",
        "colab_type": "code",
        "outputId": "b3371309-0079-4c70-f7e6-697feba7ed88",
        "colab": {
          "base_uri": "https://localhost:8080/",
          "height": 754
        }
      },
      "source": [
        "pan_data.sample(20)"
      ],
      "execution_count": 0,
      "outputs": [
        {
          "output_type": "execute_result",
          "data": {
            "text/html": [
              "<div>\n",
              "<style scoped>\n",
              "    .dataframe tbody tr th:only-of-type {\n",
              "        vertical-align: middle;\n",
              "    }\n",
              "\n",
              "    .dataframe tbody tr th {\n",
              "        vertical-align: top;\n",
              "    }\n",
              "\n",
              "    .dataframe thead th {\n",
              "        text-align: right;\n",
              "    }\n",
              "</style>\n",
              "<table border=\"1\" class=\"dataframe\">\n",
              "  <thead>\n",
              "    <tr style=\"text-align: right;\">\n",
              "      <th></th>\n",
              "      <th>id</th>\n",
              "      <th>line</th>\n",
              "      <th>author</th>\n",
              "      <th>time</th>\n",
              "      <th>text</th>\n",
              "      <th>word_count</th>\n",
              "      <th>char_count</th>\n",
              "      <th>stopwords</th>\n",
              "      <th>text_clean</th>\n",
              "    </tr>\n",
              "  </thead>\n",
              "  <tbody>\n",
              "    <tr>\n",
              "      <th>4479</th>\n",
              "      <td>5ef3fc28bea157bd5dadd4948c369827</td>\n",
              "      <td>90</td>\n",
              "      <td>ddd83f159f3e5bb134e175cad935c1db</td>\n",
              "      <td>10:00</td>\n",
              "      <td>comes with age</td>\n",
              "      <td>3</td>\n",
              "      <td>14</td>\n",
              "      <td>1</td>\n",
              "      <td>comes with age</td>\n",
              "    </tr>\n",
              "    <tr>\n",
              "      <th>86246</th>\n",
              "      <td>841a2e05ac7cd2c2bd7a426d66bf27b4</td>\n",
              "      <td>42</td>\n",
              "      <td>69b0d3dfe919a6b860a9fac82de52a7e</td>\n",
              "      <td>02:46</td>\n",
              "      <td>and for such stupid reasons</td>\n",
              "      <td>5</td>\n",
              "      <td>27</td>\n",
              "      <td>3</td>\n",
              "      <td>and for such stupid reasons</td>\n",
              "    </tr>\n",
              "    <tr>\n",
              "      <th>212089</th>\n",
              "      <td>fb4d3d767cfd719ed5931c6537edc24a</td>\n",
              "      <td>27</td>\n",
              "      <td>a091c77c2d3dd805b1773a40307d3983</td>\n",
              "      <td>02:41</td>\n",
              "      <td>lol happy belated birthday</td>\n",
              "      <td>4</td>\n",
              "      <td>26</td>\n",
              "      <td>0</td>\n",
              "      <td>lol happy belated birthday</td>\n",
              "    </tr>\n",
              "    <tr>\n",
              "      <th>690548</th>\n",
              "      <td>7ffeb6417b7c7910c9f7b35052ee1742</td>\n",
              "      <td>108</td>\n",
              "      <td>2909df86d8d914f61dea394637cf2022</td>\n",
              "      <td>12:23</td>\n",
              "      <td>is more for desktop stuff</td>\n",
              "      <td>5</td>\n",
              "      <td>26</td>\n",
              "      <td>3</td>\n",
              "      <td>is more for desktop stuff</td>\n",
              "    </tr>\n",
              "    <tr>\n",
              "      <th>643912</th>\n",
              "      <td>e656d3ab2cf72f13eeef00fe5497c044</td>\n",
              "      <td>7</td>\n",
              "      <td>9ac74f6a123c0fbba9e0b8b784a5fed2</td>\n",
              "      <td>13:19</td>\n",
              "      <td>but</td>\n",
              "      <td>1</td>\n",
              "      <td>3</td>\n",
              "      <td>1</td>\n",
              "      <td>but</td>\n",
              "    </tr>\n",
              "    <tr>\n",
              "      <th>20586</th>\n",
              "      <td>f80b975a230dfa4fa40c200a25e432e5</td>\n",
              "      <td>78</td>\n",
              "      <td>b8810fee2f4a71f849f3f7409546d1d9</td>\n",
              "      <td>13:55</td>\n",
              "      <td>66b0d785bfa15d051888c24dabba7342 I dont know</td>\n",
              "      <td>4</td>\n",
              "      <td>46</td>\n",
              "      <td>1</td>\n",
              "      <td>66b0d785bfa15d051888c24dabba7342 i dont know</td>\n",
              "    </tr>\n",
              "    <tr>\n",
              "      <th>163980</th>\n",
              "      <td>228b953e534c5d9af19d1100e867c7de</td>\n",
              "      <td>20</td>\n",
              "      <td>523fe198be0f9f75865ad7fcf385916a</td>\n",
              "      <td>15:37</td>\n",
              "      <td>have facebook</td>\n",
              "      <td>2</td>\n",
              "      <td>14</td>\n",
              "      <td>1</td>\n",
              "      <td>have facebook</td>\n",
              "    </tr>\n",
              "    <tr>\n",
              "      <th>61820</th>\n",
              "      <td>6474a75ade9eff0ce82fd77a91eff9ca</td>\n",
              "      <td>79</td>\n",
              "      <td>03957f443c7790f9642db14bbc59df11</td>\n",
              "      <td>19:36</td>\n",
              "      <td>Well I will need to go to bed soon so I will b...</td>\n",
              "      <td>17</td>\n",
              "      <td>74</td>\n",
              "      <td>7</td>\n",
              "      <td>well i will need to go to bed soon so i will b...</td>\n",
              "    </tr>\n",
              "    <tr>\n",
              "      <th>639037</th>\n",
              "      <td>e05656851757be4170266d1632e3a414</td>\n",
              "      <td>4</td>\n",
              "      <td>3cd3071a43b643dd17adeb2262c3a29d</td>\n",
              "      <td>20:26</td>\n",
              "      <td>yess</td>\n",
              "      <td>1</td>\n",
              "      <td>4</td>\n",
              "      <td>0</td>\n",
              "      <td>yess</td>\n",
              "    </tr>\n",
              "    <tr>\n",
              "      <th>92406</th>\n",
              "      <td>285d4fc04eeffeb25cb722eb15a92549</td>\n",
              "      <td>136</td>\n",
              "      <td>76680563b02870d015080e95984df8fc</td>\n",
              "      <td>16:32</td>\n",
              "      <td>Its IRC bot I try to avoid very long descriptions</td>\n",
              "      <td>10</td>\n",
              "      <td>52</td>\n",
              "      <td>2</td>\n",
              "      <td>its irc bot i try to avoid very long descriptions</td>\n",
              "    </tr>\n",
              "    <tr>\n",
              "      <th>84906</th>\n",
              "      <td>c233f069d645c5e8b3eaf511bca44140</td>\n",
              "      <td>2</td>\n",
              "      <td>92429488532aba05a10020d62ac22e47</td>\n",
              "      <td>12:03</td>\n",
              "      <td>hi</td>\n",
              "      <td>1</td>\n",
              "      <td>2</td>\n",
              "      <td>0</td>\n",
              "      <td>hi</td>\n",
              "    </tr>\n",
              "    <tr>\n",
              "      <th>257321</th>\n",
              "      <td>1c7a664516f72e48b13cd250e8bbff95</td>\n",
              "      <td>2</td>\n",
              "      <td>fe65bdfac3a3d5f331e1288ea7361d4d</td>\n",
              "      <td>23:31</td>\n",
              "      <td>Hi Willis</td>\n",
              "      <td>2</td>\n",
              "      <td>9</td>\n",
              "      <td>0</td>\n",
              "      <td>hi willis</td>\n",
              "    </tr>\n",
              "    <tr>\n",
              "      <th>40252</th>\n",
              "      <td>2a42d315131f2335eb73ddbfffe6c455</td>\n",
              "      <td>2</td>\n",
              "      <td>7d3398fc8ded0806deaf9b9977e13e2c</td>\n",
              "      <td>02:28</td>\n",
              "      <td>asl</td>\n",
              "      <td>1</td>\n",
              "      <td>4</td>\n",
              "      <td>0</td>\n",
              "      <td>asl</td>\n",
              "    </tr>\n",
              "    <tr>\n",
              "      <th>147420</th>\n",
              "      <td>a7873805942c5ccb48d0b5730397e342</td>\n",
              "      <td>8</td>\n",
              "      <td>63fe657d12300796d472e0d733381d76</td>\n",
              "      <td>10:45</td>\n",
              "      <td>can anyone explain to me on Solaris why when I...</td>\n",
              "      <td>25</td>\n",
              "      <td>133</td>\n",
              "      <td>8</td>\n",
              "      <td>can anyone explain to me on solaris why when i...</td>\n",
              "    </tr>\n",
              "    <tr>\n",
              "      <th>97271</th>\n",
              "      <td>40e4e40b71ac94290b054488e5bc4a67</td>\n",
              "      <td>31</td>\n",
              "      <td>42ed67401f0a56d5d18e17ca6d94ce53</td>\n",
              "      <td>09:57</td>\n",
              "      <td>yu dont like ta jack off</td>\n",
              "      <td>6</td>\n",
              "      <td>24</td>\n",
              "      <td>1</td>\n",
              "      <td>yu dont like ta jack off</td>\n",
              "    </tr>\n",
              "    <tr>\n",
              "      <th>720203</th>\n",
              "      <td>bcc61c5e26b5058d214f1bcee85bc799</td>\n",
              "      <td>8</td>\n",
              "      <td>a11aabeeceeae6b8cb5d12ea06b56554</td>\n",
              "      <td>12:02</td>\n",
              "      <td>And now stuck waiting for server to never respond</td>\n",
              "      <td>9</td>\n",
              "      <td>50</td>\n",
              "      <td>3</td>\n",
              "      <td>and now stuck waiting for server to never respond</td>\n",
              "    </tr>\n",
              "    <tr>\n",
              "      <th>415536</th>\n",
              "      <td>3774fa58a9739e1c2590cd9593da4f71</td>\n",
              "      <td>64</td>\n",
              "      <td>adae3200b54647bbc8a5d117591702c3</td>\n",
              "      <td>00:19</td>\n",
              "      <td>make sure its the right choice</td>\n",
              "      <td>6</td>\n",
              "      <td>30</td>\n",
              "      <td>2</td>\n",
              "      <td>make sure its the right choice</td>\n",
              "    </tr>\n",
              "    <tr>\n",
              "      <th>652277</th>\n",
              "      <td>bc5748f9fa56f498150e67ec0a9eb01c</td>\n",
              "      <td>2</td>\n",
              "      <td>2be14b73b70116784bb6fd0ae2a08750</td>\n",
              "      <td>20:24</td>\n",
              "      <td>mf</td>\n",
              "      <td>1</td>\n",
              "      <td>4</td>\n",
              "      <td>0</td>\n",
              "      <td>mf</td>\n",
              "    </tr>\n",
              "    <tr>\n",
              "      <th>872203</th>\n",
              "      <td>057562743203f384d40320d4f735b67a</td>\n",
              "      <td>12</td>\n",
              "      <td>48c4e2d6d4fc415d4b30c3ec030e4912</td>\n",
              "      <td>15:18</td>\n",
              "      <td>say</td>\n",
              "      <td>1</td>\n",
              "      <td>3</td>\n",
              "      <td>0</td>\n",
              "      <td>say</td>\n",
              "    </tr>\n",
              "    <tr>\n",
              "      <th>360800</th>\n",
              "      <td>cba14ce66fd665463030d45a452abfa0</td>\n",
              "      <td>8</td>\n",
              "      <td>b9c949abb65c6eaccb20e3e78bbe3973</td>\n",
              "      <td>17:23</td>\n",
              "      <td>how old r u bitch</td>\n",
              "      <td>6</td>\n",
              "      <td>19</td>\n",
              "      <td>1</td>\n",
              "      <td>how old r u bitch</td>\n",
              "    </tr>\n",
              "  </tbody>\n",
              "</table>\n",
              "</div>"
            ],
            "text/plain": [
              "                                      id  ...                                         text_clean\n",
              "4479    5ef3fc28bea157bd5dadd4948c369827  ...                                     comes with age\n",
              "86246   841a2e05ac7cd2c2bd7a426d66bf27b4  ...                        and for such stupid reasons\n",
              "212089  fb4d3d767cfd719ed5931c6537edc24a  ...                         lol happy belated birthday\n",
              "690548  7ffeb6417b7c7910c9f7b35052ee1742  ...                          is more for desktop stuff\n",
              "643912  e656d3ab2cf72f13eeef00fe5497c044  ...                                                but\n",
              "20586   f80b975a230dfa4fa40c200a25e432e5  ...       66b0d785bfa15d051888c24dabba7342 i dont know\n",
              "163980  228b953e534c5d9af19d1100e867c7de  ...                                      have facebook\n",
              "61820   6474a75ade9eff0ce82fd77a91eff9ca  ...  well i will need to go to bed soon so i will b...\n",
              "639037  e05656851757be4170266d1632e3a414  ...                                               yess\n",
              "92406   285d4fc04eeffeb25cb722eb15a92549  ...  its irc bot i try to avoid very long descriptions\n",
              "84906   c233f069d645c5e8b3eaf511bca44140  ...                                                 hi\n",
              "257321  1c7a664516f72e48b13cd250e8bbff95  ...                                          hi willis\n",
              "40252   2a42d315131f2335eb73ddbfffe6c455  ...                                                asl\n",
              "147420  a7873805942c5ccb48d0b5730397e342  ...  can anyone explain to me on solaris why when i...\n",
              "97271   40e4e40b71ac94290b054488e5bc4a67  ...                           yu dont like ta jack off\n",
              "720203  bcc61c5e26b5058d214f1bcee85bc799  ...  and now stuck waiting for server to never respond\n",
              "415536  3774fa58a9739e1c2590cd9593da4f71  ...                     make sure its the right choice\n",
              "652277  bc5748f9fa56f498150e67ec0a9eb01c  ...                                                 mf\n",
              "872203  057562743203f384d40320d4f735b67a  ...                                                say\n",
              "360800  cba14ce66fd665463030d45a452abfa0  ...                                  how old r u bitch\n",
              "\n",
              "[20 rows x 9 columns]"
            ]
          },
          "metadata": {
            "tags": []
          },
          "execution_count": 39
        }
      ]
    },
    {
      "cell_type": "markdown",
      "metadata": {
        "id": "wOoRR9uJlVwN",
        "colab_type": "text"
      },
      "source": [
        "## Changing the SMS Slang to english words"
      ]
    },
    {
      "cell_type": "code",
      "metadata": {
        "id": "r6VIrFxvawhU",
        "colab_type": "code",
        "colab": {}
      },
      "source": [
        "from IPython.display import display\n",
        "slang_dict= {\"afaik\":\"as far as i Know\",\"afk\": \"away from keyboard\",\"asap\":\"as soon as possible\",\"atk\":\"At The Keyboard\",\"atm\":\"at the moment\",\"a3\":\"anytime, anywhere, anyplace\",\"bak\":\"back at keyboard\",\"bbl\":\"be back later\",\"bbs\":\"be back soon\",\n",
        "\"bfn\":\"bye for now\",\"b4n\":\"bye for now\",\"brb\":\"be right back\",\"brt\":\"be right there\",\"btw\":\"by the way\",\"b4\":\"before\",\"b4n\":\"bye for now\",\"faq\":\"frequently asked questions\",\"fc\":\"fingers crossed\",\n",
        "\"fwiw\":\"for what it's worth\",\"fyi\":\"for your information\",\"gal\":\"get a life\",\"gg\":\"good game\",\"gn\":\"good night\",\"gmta\":\"great minds think alike\",\"gr8\":\"great\",\"ily\":\"i love you\",\"imho\":\"in my honest opinion\",\n",
        "\"imo\":\"in my opinion\",\"iow\":\"in other words\",\"ldr\":\"long distance relationship\",\"lmao\":\"laugh my a** off\",\"lol\":\"laughing out loud\",\"ltns\":\"long time no see\",\"l8r\":\"later\",\"mte\":\"my thoughts exactly\",\"m8\":\"mate\",\"nrn\":\"no reply necessary\",\n",
        "\"oic\":\"oh i see\",\"pita\":\"pain in the a**\",\"prt\":\"party\",\"prw\":\"parents are watching\",\"rofl\":\"rolling on the floor laughing\",\"roflol\":\"rolling on the floor laughing out loud\",\"roflmao\":\"rolling on the floor laughing my a** off\",\"stats\":\"your sex and age\",\n",
        "\"asl\":\"age, sex, location\",\"thx\":\"thank you\",\"ttfn\":\"ta-ta for now\",\"ttyl\":\"talk to you later\",\"wb\":\"welcome back\",\"wtf\":\"what the f***\",\"wth\":\"what the hell\",\"wtg\":\"way to go\",\"wuf\":\"where are you from?\",\n",
        "\"w8\":\"wait\",\"2g2bt\":\"too good to be true\",\"2moro\":\"tomorrow\",\"2nite\":\"tonight\",\"abt\":\"about\",\"coz\":\"because\",\"cos\":\"because\",\"bcoz\":\"because\",\"bf\":\"boyfriend\",\"gf\":\"girlfriend\",\"bff\":\"best friend forever\", \"btw\":\"by the way\", \"cm\":\"call me\",\"csl\":\"can't stop laughing\",\n",
        "\"dm\":\"direct message\",\"dnbl8\":\"don't be late\",\"g4i\":\"go for it\",\"gnoc\":\"get naked on camera\",\"gab\":\"getting a beer\",\"gas\":\"got a second?\",\"icymi\":\"in case you missed it\",\"j2lyk\":\"just to let you know\",\"lmk\":\"let me know\", \"msg\":\"message\",\"plz\":\"please\",\n",
        "\"ur\":\"your\",\"iwsn\":\"i want sex now\",\"nifoc\":\"naked in front of computer\",\"pir\":\"parent in room\",\"cu46\":\"see you for sex\",\"thot\":\"that hoe over there\",\"cid\":\"acid (the drug)\",\"broken\":\"hungover from alcohol\",\"pos\":\"parent over shoulder\",\"sugarpic\":\"suggestive or erotic photo\",\n",
        "\"kotl\":\"kiss on the lips\",\"lmirl\":\"let us meet in real life\",\"pron\":\"porn\",\"tdtm\":\"talk dirty to me\",\"ipn\":\"im posting naked\",\"lhs\":\"lets have sex\",\"wttp\":\"want to trade pictures?\",\"doc\":\"drug of choice\",\"twd\":\"texting while driving\",\"gypo\":\"get your pants off\",\"kpc\":\"keeping parents clueless\"}\n",
        "\n",
        "def process_data(data):\n",
        "    data['text_clean']=data['text_clean'].str.lower()\n",
        "    data['text_clean']=data['text_clean'].astype(str)\n",
        "    data.replace(slang_dict,regex=True,inplace=True)\n",
        "    display(data.head(2))\n",
        "    return data"
      ],
      "execution_count": 0,
      "outputs": []
    },
    {
      "cell_type": "code",
      "metadata": {
        "colab_type": "code",
        "id": "yaKQ7fUvjTBF",
        "outputId": "37e421c8-41e3-4a43-b353-02371fc074ca",
        "colab": {
          "base_uri": "https://localhost:8080/",
          "height": 111
        }
      },
      "source": [
        "pan_data= process_data(pan_data)"
      ],
      "execution_count": 0,
      "outputs": [
        {
          "output_type": "display_data",
          "data": {
            "text/html": [
              "<div>\n",
              "<style scoped>\n",
              "    .dataframe tbody tr th:only-of-type {\n",
              "        vertical-align: middle;\n",
              "    }\n",
              "\n",
              "    .dataframe tbody tr th {\n",
              "        vertical-align: top;\n",
              "    }\n",
              "\n",
              "    .dataframe thead th {\n",
              "        text-align: right;\n",
              "    }\n",
              "</style>\n",
              "<table border=\"1\" class=\"dataframe\">\n",
              "  <thead>\n",
              "    <tr style=\"text-align: right;\">\n",
              "      <th></th>\n",
              "      <th>id</th>\n",
              "      <th>line</th>\n",
              "      <th>author</th>\n",
              "      <th>time</th>\n",
              "      <th>text</th>\n",
              "      <th>word_count</th>\n",
              "      <th>char_count</th>\n",
              "      <th>stopwords</th>\n",
              "      <th>text_clean</th>\n",
              "    </tr>\n",
              "  </thead>\n",
              "  <tbody>\n",
              "    <tr>\n",
              "      <th>0</th>\n",
              "      <td>e621da5de598c9321a1d505ea95e6a2d</td>\n",
              "      <td>1</td>\n",
              "      <td>97964e7a9e8eb9cf78f2e4d7b2ff34c7</td>\n",
              "      <td>03:20</td>\n",
              "      <td>Hola</td>\n",
              "      <td>1</td>\n",
              "      <td>5</td>\n",
              "      <td>0</td>\n",
              "      <td>hola</td>\n",
              "    </tr>\n",
              "    <tr>\n",
              "      <th>1</th>\n",
              "      <td>e621da5de598c9321a1d505ea95e6a2d</td>\n",
              "      <td>2</td>\n",
              "      <td>0158d0d6781fingers crossed4d493f243d4caa49747</td>\n",
              "      <td>03:20</td>\n",
              "      <td>hi</td>\n",
              "      <td>1</td>\n",
              "      <td>3</td>\n",
              "      <td>0</td>\n",
              "      <td>hi</td>\n",
              "    </tr>\n",
              "  </tbody>\n",
              "</table>\n",
              "</div>"
            ],
            "text/plain": [
              "                                 id  line  ... stopwords text_clean\n",
              "0  e621da5de598c9321a1d505ea95e6a2d     1  ...         0       hola\n",
              "1  e621da5de598c9321a1d505ea95e6a2d     2  ...         0         hi\n",
              "\n",
              "[2 rows x 9 columns]"
            ]
          },
          "metadata": {
            "tags": []
          }
        }
      ]
    },
    {
      "cell_type": "code",
      "metadata": {
        "id": "m1OJUf4vja9b",
        "colab_type": "code",
        "outputId": "503e0e91-2300-49d7-9abe-7a2b20384efa",
        "colab": {
          "base_uri": "https://localhost:8080/",
          "height": 478
        }
      },
      "source": [
        "pan_data.sample(10)"
      ],
      "execution_count": 0,
      "outputs": [
        {
          "output_type": "execute_result",
          "data": {
            "text/html": [
              "<div>\n",
              "<style scoped>\n",
              "    .dataframe tbody tr th:only-of-type {\n",
              "        vertical-align: middle;\n",
              "    }\n",
              "\n",
              "    .dataframe tbody tr th {\n",
              "        vertical-align: top;\n",
              "    }\n",
              "\n",
              "    .dataframe thead th {\n",
              "        text-align: right;\n",
              "    }\n",
              "</style>\n",
              "<table border=\"1\" class=\"dataframe\">\n",
              "  <thead>\n",
              "    <tr style=\"text-align: right;\">\n",
              "      <th></th>\n",
              "      <th>id</th>\n",
              "      <th>line</th>\n",
              "      <th>author</th>\n",
              "      <th>time</th>\n",
              "      <th>text</th>\n",
              "      <th>word_count</th>\n",
              "      <th>char_count</th>\n",
              "      <th>stopwords</th>\n",
              "      <th>text_clean</th>\n",
              "    </tr>\n",
              "  </thead>\n",
              "  <tbody>\n",
              "    <tr>\n",
              "      <th>80085</th>\n",
              "      <td>d1bce5997ccdad64516a16149d1boyfemaleriendinger...</td>\n",
              "      <td>3</td>\n",
              "      <td>femalea59933c7dce08ba7d4a9401e6b73803</td>\n",
              "      <td>12:44</td>\n",
              "      <td>what</td>\n",
              "      <td>1</td>\n",
              "      <td>5</td>\n",
              "      <td>0</td>\n",
              "      <td>what</td>\n",
              "    </tr>\n",
              "    <tr>\n",
              "      <th>408905</th>\n",
              "      <td>1b0female773e842afemaleb847e246boyfemaleriend0...</td>\n",
              "      <td>10</td>\n",
              "      <td>9a5e2c7female72banytime, anywhere, anyplace2fe...</td>\n",
              "      <td>06:26</td>\n",
              "      <td>yeah pretty maleyouch welcomalee backyou</td>\n",
              "      <td>4</td>\n",
              "      <td>23</td>\n",
              "      <td>0</td>\n",
              "      <td>yeah pretty maleyouch welcomalee backyou</td>\n",
              "    </tr>\n",
              "    <tr>\n",
              "      <th>257557</th>\n",
              "      <td>b30efemaleingers crossedefemale66e03b3731d846d...</td>\n",
              "      <td>106</td>\n",
              "      <td>2a751a42619e8a40boyfemaleriend5115cb62135a69</td>\n",
              "      <td>01:36</td>\n",
              "      <td>not tomaleorrow</td>\n",
              "      <td>2</td>\n",
              "      <td>12</td>\n",
              "      <td>1</td>\n",
              "      <td>not tomaleorrow</td>\n",
              "    </tr>\n",
              "    <tr>\n",
              "      <th>581264</th>\n",
              "      <td>5afemale5female84adfemale2dc141femaleanytime, ...</td>\n",
              "      <td>19</td>\n",
              "      <td>99ca41femaleee4femaled783female3female93decd8e...</td>\n",
              "      <td>00:12</td>\n",
              "      <td>thankss</td>\n",
              "      <td>1</td>\n",
              "      <td>7</td>\n",
              "      <td>0</td>\n",
              "      <td>thankss</td>\n",
              "    </tr>\n",
              "    <tr>\n",
              "      <th>874419</th>\n",
              "      <td>63female2female3284anytime, anywhere, anyplace...</td>\n",
              "      <td>1</td>\n",
              "      <td>d090448efemaleingers crossed59female5female5b3...</td>\n",
              "      <td>01:56</td>\n",
              "      <td>hi</td>\n",
              "      <td>1</td>\n",
              "      <td>2</td>\n",
              "      <td>0</td>\n",
              "      <td>hi</td>\n",
              "    </tr>\n",
              "    <tr>\n",
              "      <th>177831</th>\n",
              "      <td>615832e2d7edceb6068713female1560a8992</td>\n",
              "      <td>37</td>\n",
              "      <td>a068d03612a6a4dfemale8556db3786dboyfemaleriend...</td>\n",
              "      <td>21:14</td>\n",
              "      <td>links and styoufemalefemale heh</td>\n",
              "      <td>4</td>\n",
              "      <td>19</td>\n",
              "      <td>1</td>\n",
              "      <td>links and styoufemalefemale heh</td>\n",
              "    </tr>\n",
              "    <tr>\n",
              "      <th>205332</th>\n",
              "      <td>213ee6eb0ca99cda28a9a6b363femaleb3anytime, any...</td>\n",
              "      <td>16</td>\n",
              "      <td>8319female27d70ed91d8a5cboyfemaleriend30670cc859e</td>\n",
              "      <td>06:52</td>\n",
              "      <td>Cyoyour</td>\n",
              "      <td>1</td>\n",
              "      <td>4</td>\n",
              "      <td>0</td>\n",
              "      <td>see yoyoyour</td>\n",
              "    </tr>\n",
              "    <tr>\n",
              "      <th>382106</th>\n",
              "      <td>33c55c79da42cad51e124124e92d8cd4</td>\n",
              "      <td>4</td>\n",
              "      <td>61a753181ceb0457c24add0908da4e2e</td>\n",
              "      <td>23:40</td>\n",
              "      <td>SAY HI</td>\n",
              "      <td>2</td>\n",
              "      <td>7</td>\n",
              "      <td>0</td>\n",
              "      <td>say hi</td>\n",
              "    </tr>\n",
              "    <tr>\n",
              "      <th>457319</th>\n",
              "      <td>b7718female8b17094female2019female32aa79a8c5e29</td>\n",
              "      <td>23</td>\n",
              "      <td>6ca6female5b604595717cacc5bboyfemalerienda0aa8ec6</td>\n",
              "      <td>09:14</td>\n",
              "      <td>giv yoyour pi see</td>\n",
              "      <td>3</td>\n",
              "      <td>10</td>\n",
              "      <td>0</td>\n",
              "      <td>giv yoyour pi see</td>\n",
              "    </tr>\n",
              "    <tr>\n",
              "      <th>198750</th>\n",
              "      <td>cb31afemale9e1446360a155efemale8c4570bb786</td>\n",
              "      <td>3</td>\n",
              "      <td>49femalefemaledd02aa55female3638075c36c3ce5d6f...</td>\n",
              "      <td>20:48</td>\n",
              "      <td>Donaparent over shoyouldert tell malee yoyou a...</td>\n",
              "      <td>7</td>\n",
              "      <td>34</td>\n",
              "      <td>4</td>\n",
              "      <td>donaparent over shoyouldert tell malee yoyou a...</td>\n",
              "    </tr>\n",
              "  </tbody>\n",
              "</table>\n",
              "</div>"
            ],
            "text/plain": [
              "                                                       id  ...                                         text_clean\n",
              "80085   d1bce5997ccdad64516a16149d1boyfemaleriendinger...  ...                                               what\n",
              "408905  1b0female773e842afemaleb847e246boyfemaleriend0...  ...           yeah pretty maleyouch welcomalee backyou\n",
              "257557  b30efemaleingers crossedefemale66e03b3731d846d...  ...                                    not tomaleorrow\n",
              "581264  5afemale5female84adfemale2dc141femaleanytime, ...  ...                                            thankss\n",
              "874419  63female2female3284anytime, anywhere, anyplace...  ...                                                 hi\n",
              "177831              615832e2d7edceb6068713female1560a8992  ...                    links and styoufemalefemale heh\n",
              "205332  213ee6eb0ca99cda28a9a6b363femaleb3anytime, any...  ...                                       see yoyoyour\n",
              "382106                   33c55c79da42cad51e124124e92d8cd4  ...                                             say hi\n",
              "457319    b7718female8b17094female2019female32aa79a8c5e29  ...                                  giv yoyour pi see\n",
              "198750         cb31afemale9e1446360a155efemale8c4570bb786  ...  donaparent over shoyouldert tell malee yoyou a...\n",
              "\n",
              "[10 rows x 9 columns]"
            ]
          },
          "metadata": {
            "tags": []
          },
          "execution_count": 33
        }
      ]
    },
    {
      "cell_type": "code",
      "metadata": {
        "id": "OpskPEukkgW0",
        "colab_type": "code",
        "colab": {}
      },
      "source": [
        "def text_to_wordlist(text, remove_stopwords=True, stem_words=False):    \n",
        "    # Clean the text, with the option to remove stopwords and to stem words.\n",
        "    \n",
        "    # Convert words to lower case and split them\n",
        "    text = text.lower().split()\n",
        "    wordnet_lemmatizer = WordNetLemmatizer() \n",
        "    # Optionally, remove stop words\n",
        "    if remove_stopwords:\n",
        "        stops = set(stopwords.words(\"english\"))\n",
        "        text = [wordnet_lemmatizer.lemmatize(w) for w in text if not w in stops ]\n",
        "        text = [w for w in text if w != \"nan\" ]\n",
        "    else:\n",
        "        text = [wordnet_lemmatizer.lemmatize(w) for w in text]\n",
        "        text = [w for w in text if w != \"nan\" ]\n",
        "    \n",
        "    text = \" \".join(text)\n",
        "\n",
        "    # Clean the text \n",
        "    text = re.sub(r\"[^A-Za-z0-9^,!.\\/'+-=]\", \" \", text)\n",
        "    text = re.sub(r\"what's\", \"what is \", text)\n",
        "    text = re.sub(r\"\\'s\", \" \", text)\n",
        "    text = re.sub(r\"\\'ve\", \" have \", text)\n",
        "    text = re.sub(r\"can't\", \"cannot \", text)\n",
        "    text = re.sub(r\"n't\", \" not \", text)\n",
        "    text = re.sub(r\"i'm\", \"i am \", text)\n",
        "    text = re.sub(r\"\\'re\", \" are \", text)\n",
        "    text = re.sub(r\"\\'d\", \" would \", text)\n",
        "    text = re.sub(r\"\\'ll\", \" will \", text)\n",
        "    text = re.sub(r\",\", \" \", text)\n",
        "    text = re.sub(r\"\\.\", \" \", text)\n",
        "    text = re.sub(r\"!\", \" ! \", text)\n",
        "    text = re.sub(r\"\\/\", \" \", text)\n",
        "    text = re.sub(r\"\\^\", \" ^ \", text)\n",
        "    text = re.sub(r\"\\+\", \" + \", text)\n",
        "    text = re.sub(r\"\\-\", \" - \", text)\n",
        "    text = re.sub(r\"\\=\", \" = \", text)\n",
        "    \n",
        "    text = re.sub(r\"\\<\", \" \", text)\n",
        "    text = re.sub(r\"\\>\", \" \", text)\n",
        "    \n",
        "    text = re.sub(r\"'\", \" \", text)\n",
        "    text = re.sub(r\"(\\d+)(k)\", r\"\\g<1>000\", text)\n",
        "    text = re.sub(r\":\", \" : \", text)\n",
        "    text = re.sub(r\" e g \", \" eg \", text)\n",
        "    text = re.sub(r\" b g \", \" bg \", text)\n",
        "    text = re.sub(r\" u s \", \" american \", text)\n",
        "    text = re.sub(r\"\\0s\", \"0\", text)\n",
        "    text = re.sub(r\" 9 11 \", \"911\", text)\n",
        "    text = re.sub(r\"e - mail\", \"email\", text)\n",
        "    text = re.sub(r\"j k\", \"jk\", text)\n",
        "    text = re.sub(r\"\\s{2,}\", \" \", text)\n",
        "    \n",
        "    # Optionally, shorten words to their stems\n",
        "    if stem_words:\n",
        "        text = text.split()\n",
        "        stemmer = SnowballStemmer('english')\n",
        "        stemmed_words = [stemmer.stem(word) for word in text]\n",
        "        text = \" \".join(stemmed_words)\n",
        "    \n",
        "    # Return a list of words\n",
        "    return(text)"
      ],
      "execution_count": 0,
      "outputs": []
    },
    {
      "cell_type": "code",
      "metadata": {
        "id": "XYEOusl1N_dQ",
        "colab_type": "code",
        "colab": {}
      },
      "source": [
        "\n",
        "pan= pan_data.copy() # However, if you need the original list unchanged when the new list is modified, you can use copy() method. This is called shallow copy.\n",
        "pan['text_clean'] = pan.apply(lambda row: text_to_wordlist(row.text_clean).split(), axis=1)"
      ],
      "execution_count": 0,
      "outputs": []
    },
    {
      "cell_type": "code",
      "metadata": {
        "id": "fBhLHrW9hCD7",
        "colab_type": "code",
        "outputId": "4beeb88a-ba03-40e1-e2c6-ff88fec7e124",
        "colab": {
          "base_uri": "https://localhost:8080/",
          "height": 444
        }
      },
      "source": [
        "pan.sample(10)"
      ],
      "execution_count": 0,
      "outputs": [
        {
          "output_type": "execute_result",
          "data": {
            "text/html": [
              "<div>\n",
              "<style scoped>\n",
              "    .dataframe tbody tr th:only-of-type {\n",
              "        vertical-align: middle;\n",
              "    }\n",
              "\n",
              "    .dataframe tbody tr th {\n",
              "        vertical-align: top;\n",
              "    }\n",
              "\n",
              "    .dataframe thead th {\n",
              "        text-align: right;\n",
              "    }\n",
              "</style>\n",
              "<table border=\"1\" class=\"dataframe\">\n",
              "  <thead>\n",
              "    <tr style=\"text-align: right;\">\n",
              "      <th></th>\n",
              "      <th>id</th>\n",
              "      <th>line</th>\n",
              "      <th>author</th>\n",
              "      <th>time</th>\n",
              "      <th>text</th>\n",
              "      <th>word_count</th>\n",
              "      <th>char_count</th>\n",
              "      <th>stopwords</th>\n",
              "      <th>text_clean</th>\n",
              "    </tr>\n",
              "  </thead>\n",
              "  <tbody>\n",
              "    <tr>\n",
              "      <th>88752</th>\n",
              "      <td>1f2470036098fingers crossed675e7c0c6d9663b82e</td>\n",
              "      <td>20</td>\n",
              "      <td>fboyfriende6e979bc4793e104d07b787ce2909</td>\n",
              "      <td>14:05</td>\n",
              "      <td>yep</td>\n",
              "      <td>1</td>\n",
              "      <td>6</td>\n",
              "      <td>0</td>\n",
              "      <td>[yep]</td>\n",
              "    </tr>\n",
              "    <tr>\n",
              "      <th>711503</th>\n",
              "      <td>bb57959d8db7630e1dff0b5e812e7e51</td>\n",
              "      <td>99</td>\n",
              "      <td>0194boyfriendef36fingers crossed3ad600f7beb9ee...</td>\n",
              "      <td>15:22</td>\n",
              "      <td>yeah</td>\n",
              "      <td>1</td>\n",
              "      <td>4</td>\n",
              "      <td>0</td>\n",
              "      <td>[yeah]</td>\n",
              "    </tr>\n",
              "    <tr>\n",
              "      <th>444256</th>\n",
              "      <td>56bc387c42fb0619ac19fd0ecec7247f</td>\n",
              "      <td>5</td>\n",
              "      <td>f4a1e999136862eb2efd830cf72310c0</td>\n",
              "      <td>03:44</td>\n",
              "      <td>kbye</td>\n",
              "      <td>1</td>\n",
              "      <td>4</td>\n",
              "      <td>0</td>\n",
              "      <td>[kbye]</td>\n",
              "    </tr>\n",
              "    <tr>\n",
              "      <th>13689</th>\n",
              "      <td>e07c3e4e0e7b3900b174490fa4e22beforec</td>\n",
              "      <td>9</td>\n",
              "      <td>7ef291c89ad915978b203d427919cfbb</td>\n",
              "      <td>08:32</td>\n",
              "      <td>does varrun   exist</td>\n",
              "      <td>5</td>\n",
              "      <td>22</td>\n",
              "      <td>1</td>\n",
              "      <td>[varrun, exist]</td>\n",
              "    </tr>\n",
              "    <tr>\n",
              "      <th>828640</th>\n",
              "      <td>eff52b7c7b28d318c0fd6dd6fdec463b</td>\n",
              "      <td>53</td>\n",
              "      <td>b2d09b73eb5ad0228f9cb2e51485a45f</td>\n",
              "      <td>12:04</td>\n",
              "      <td>its line 5464 in jsobjcpp</td>\n",
              "      <td>5</td>\n",
              "      <td>27</td>\n",
              "      <td>2</td>\n",
              "      <td>[line, 5464, jsobjcpp]</td>\n",
              "    </tr>\n",
              "    <tr>\n",
              "      <th>393505</th>\n",
              "      <td>981747f9b19120fb65616d36c7272a6e</td>\n",
              "      <td>6</td>\n",
              "      <td>8ab83fdb908beforee70a8e133e649134c55</td>\n",
              "      <td>00:53</td>\n",
              "      <td>18 f</td>\n",
              "      <td>2</td>\n",
              "      <td>4</td>\n",
              "      <td>0</td>\n",
              "      <td>[18, f]</td>\n",
              "    </tr>\n",
              "    <tr>\n",
              "      <th>689297</th>\n",
              "      <td>c96a8e0c55cf58c12aa860fe9c573cdd</td>\n",
              "      <td>52</td>\n",
              "      <td>c6e059a13146edfingers crossed52cda747537db27f</td>\n",
              "      <td>00:42</td>\n",
              "      <td>are you fat</td>\n",
              "      <td>3</td>\n",
              "      <td>12</td>\n",
              "      <td>2</td>\n",
              "      <td>[fat]</td>\n",
              "    </tr>\n",
              "    <tr>\n",
              "      <th>309366</th>\n",
              "      <td>95539910a8fe6035ecdded42181c5ab3</td>\n",
              "      <td>19</td>\n",
              "      <td>0526eb9cfingers crossedee11c0036f3fa6d11158d5</td>\n",
              "      <td>21:01</td>\n",
              "      <td>that why i on here to enjoy and have pleasyoure</td>\n",
              "      <td>10</td>\n",
              "      <td>45</td>\n",
              "      <td>8</td>\n",
              "      <td>[enjoy, pleasyoure]</td>\n",
              "    </tr>\n",
              "    <tr>\n",
              "      <th>56902</th>\n",
              "      <td>a7a2444ac3d45b7fb68e4eb1c224a401</td>\n",
              "      <td>34</td>\n",
              "      <td>1fe903a9754c793942f3a7f1bad0bb50</td>\n",
              "      <td>08:15</td>\n",
              "      <td>yep</td>\n",
              "      <td>1</td>\n",
              "      <td>3</td>\n",
              "      <td>0</td>\n",
              "      <td>[yep]</td>\n",
              "    </tr>\n",
              "    <tr>\n",
              "      <th>519322</th>\n",
              "      <td>e67f3cc008cbddc57ae77ec3f9b108b2</td>\n",
              "      <td>2</td>\n",
              "      <td>6boyfriend6443c8d8d3dbd2e8798cefingers crossed...</td>\n",
              "      <td>09:27</td>\n",
              "      <td>httptwittercomyk_Michelle maiko0905 HCARDÈÅøÔºü</td>\n",
              "      <td>3</td>\n",
              "      <td>58</td>\n",
              "      <td>0</td>\n",
              "      <td>[httptwittercomyk, michelle, maiko0905, hcard]</td>\n",
              "    </tr>\n",
              "  </tbody>\n",
              "</table>\n",
              "</div>"
            ],
            "text/plain": [
              "                                                   id  ...                                      text_clean\n",
              "88752   1f2470036098fingers crossed675e7c0c6d9663b82e  ...                                           [yep]\n",
              "711503               bb57959d8db7630e1dff0b5e812e7e51  ...                                          [yeah]\n",
              "444256               56bc387c42fb0619ac19fd0ecec7247f  ...                                          [kbye]\n",
              "13689            e07c3e4e0e7b3900b174490fa4e22beforec  ...                                 [varrun, exist]\n",
              "828640               eff52b7c7b28d318c0fd6dd6fdec463b  ...                          [line, 5464, jsobjcpp]\n",
              "393505               981747f9b19120fb65616d36c7272a6e  ...                                         [18, f]\n",
              "689297               c96a8e0c55cf58c12aa860fe9c573cdd  ...                                           [fat]\n",
              "309366               95539910a8fe6035ecdded42181c5ab3  ...                             [enjoy, pleasyoure]\n",
              "56902                a7a2444ac3d45b7fb68e4eb1c224a401  ...                                           [yep]\n",
              "519322               e67f3cc008cbddc57ae77ec3f9b108b2  ...  [httptwittercomyk, michelle, maiko0905, hcard]\n",
              "\n",
              "[10 rows x 9 columns]"
            ]
          },
          "metadata": {
            "tags": []
          },
          "execution_count": 44
        }
      ]
    },
    {
      "cell_type": "code",
      "metadata": {
        "id": "ihdeBIZCkwRo",
        "colab_type": "code",
        "outputId": "a96434d2-7971-4bd4-b26c-9aab4a4aee63",
        "colab": {
          "base_uri": "https://localhost:8080/",
          "height": 289
        }
      },
      "source": [
        "pan.info()"
      ],
      "execution_count": 0,
      "outputs": [
        {
          "output_type": "stream",
          "text": [
            "<class 'pandas.core.frame.DataFrame'>\n",
            "RangeIndex: 880156 entries, 0 to 880155\n",
            "Data columns (total 9 columns):\n",
            " #   Column      Non-Null Count   Dtype \n",
            "---  ------      --------------   ----- \n",
            " 0   id          880156 non-null  object\n",
            " 1   line        880156 non-null  int64 \n",
            " 2   author      880156 non-null  object\n",
            " 3   time        880156 non-null  object\n",
            " 4   text        880156 non-null  object\n",
            " 5   word_count  880156 non-null  int64 \n",
            " 6   char_count  880156 non-null  int64 \n",
            " 7   stopwords   880156 non-null  int64 \n",
            " 8   text_clean  880156 non-null  object\n",
            "dtypes: int64(4), object(5)\n",
            "memory usage: 60.4+ MB\n"
          ],
          "name": "stdout"
        }
      ]
    },
    {
      "cell_type": "code",
      "metadata": {
        "id": "pDyEfPGGmrjO",
        "colab_type": "code",
        "colab": {}
      },
      "source": [
        "words = [w for w in pan['text_clean'].tolist()]\n",
        "words = set(itertools.chain(*words)) #chain('ABC', 'DEF') --> A B C D E F\n",
        "vocab_size = len(words)"
      ],
      "execution_count": 0,
      "outputs": []
    },
    {
      "cell_type": "code",
      "metadata": {
        "id": "N-MKODu8rXeC",
        "colab_type": "code",
        "colab": {}
      },
      "source": [
        "pan['text_clean']=[\" \".join(x) for x in pan['text_clean'].values]"
      ],
      "execution_count": 0,
      "outputs": []
    },
    {
      "cell_type": "markdown",
      "metadata": {
        "id": "VxHqx9qFr4s5",
        "colab_type": "text"
      },
      "source": [
        "## Unigram of top 20 words used"
      ]
    },
    {
      "cell_type": "code",
      "metadata": {
        "id": "h_04D12krn4w",
        "colab_type": "code",
        "outputId": "7b9b82d3-5905-49ce-9c10-c308153d8b9e",
        "colab": {
          "base_uri": "https://localhost:8080/",
          "height": 1000
        }
      },
      "source": [
        "from sklearn.feature_extraction.text import CountVectorizer\n",
        "#The distribution of top unigrams\n",
        "\n",
        "def get_top_n_words(corpus, n=None):\n",
        "    vec = CountVectorizer(stop_words = 'english').fit(corpus)\n",
        "    bag_of_words = vec.transform(corpus)\n",
        "    sum_words = bag_of_words.sum(axis=0) \n",
        "    words_freq = [(word, sum_words[0, idx]) for word, idx in vec.vocabulary_.items()]\n",
        "    words_freq =sorted(words_freq, key = lambda x: x[1], reverse=True)\n",
        "    return words_freq[:n]\n",
        "\n",
        "common_words = get_top_n_words(pan['text_clean'].dropna(), 40)\n",
        "\n",
        "for word, freq in common_words:\n",
        "    print(word, freq)\n",
        "df2 = pd.DataFrame(common_words, columns = ['Text' , 'count'])\n",
        "df2.groupby('Text').sum()['count'].sort_values(ascending=False).plot(\n",
        "    kind='bar', title='Top 20 words in review after removing stop words',figsize=(15,8))"
      ],
      "execution_count": 0,
      "outputs": [
        {
          "output_type": "stream",
          "text": [
            "hi 40720\n",
            "like 26932\n",
            "im 26396\n",
            "sex 23706\n",
            "age 23108\n",
            "hey 21482\n",
            "location 21128\n",
            "yoyour 18698\n",
            "want 18393\n",
            "dont 18289\n",
            "ok 16803\n",
            "know 16007\n",
            "laughing 15441\n",
            "loud 15012\n",
            "think 12866\n",
            "yeah 12532\n",
            "use 12515\n",
            "good 12475\n",
            "shoulder 11776\n",
            "yes 11666\n",
            "work 11142\n",
            "thats 10876\n",
            "oh 10762\n",
            "make 10106\n",
            "need 9660\n",
            "say 9484\n",
            "way 9339\n",
            "really 9005\n",
            "iaparent 8887\n",
            "time 8694\n",
            "got 8569\n",
            "right 8555\n",
            "bug 8421\n",
            "thing 7687\n",
            "hello 7653\n",
            "ththem 7652\n",
            "going 7329\n",
            "shoulderm 7198\n",
            "mean 7007\n",
            "drug 6961\n"
          ],
          "name": "stdout"
        },
        {
          "output_type": "execute_result",
          "data": {
            "text/plain": [
              "<matplotlib.axes._subplots.AxesSubplot at 0x7f7a8efd9a58>"
            ]
          },
          "metadata": {
            "tags": []
          },
          "execution_count": 48
        },
        {
          "output_type": "display_data",
          "data": {
            "image/png": "[encoded data removed]",
            "text/plain": [
              "<Figure size 1080x576 with 1 Axes>"
            ]
          },
          "metadata": {
            "tags": []
          }
        }
      ]
    },
    {
      "cell_type": "markdown",
      "metadata": {
        "id": "dZKgEfuWr79V",
        "colab_type": "text"
      },
      "source": [
        "## Bigram of top 20 words used"
      ]
    },
    {
      "cell_type": "code",
      "metadata": {
        "id": "BaX1MO82ryYJ",
        "colab_type": "code",
        "outputId": "7d86fee0-dcfe-4bdf-869b-37a38bb78ede",
        "colab": {
          "base_uri": "https://localhost:8080/",
          "height": 1000
        }
      },
      "source": [
        "# The distribution of top bigrams\n",
        "\n",
        "def get_top_n_bigram(corpus, n=None):\n",
        "    vec = CountVectorizer(ngram_range=(2, 2), stop_words='english').fit(corpus)\n",
        "    bag_of_words = vec.transform(corpus)\n",
        "    sum_words = bag_of_words.sum(axis=0) \n",
        "    words_freq = [(word, sum_words[0, idx]) for word, idx in vec.vocabulary_.items()]\n",
        "    words_freq =sorted(words_freq, key = lambda x: x[1], reverse=True)\n",
        "    return words_freq[:n]\n",
        "common_words = get_top_n_bigram(pan['text_clean'].dropna(), 40)\n",
        "\n",
        "for word, freq in common_words:\n",
        "    print(word, freq)\n",
        "df4 = pd.DataFrame(common_words, columns = ['Text' , 'count'])\n",
        "df4.groupby('Text').sum()['count'].sort_values(ascending=False).plot(\n",
        "    kind='bar', title='Top 20 bigrams in review after removing stop words',figsize = (15,10))"
      ],
      "execution_count": 0,
      "outputs": [
        {
          "output_type": "stream",
          "text": [
            "age sex 20977\n",
            "sex location 20707\n",
            "laughing loud 14653\n",
            "iaparent shoulderm 7046\n",
            "loudolaughing loudolaughing 2999\n",
            "dont know 2846\n",
            "donaparent shouldert 2565\n",
            "bugmail bug 2527\n",
            "shoulder aparent 2455\n",
            "pudi pudi 2342\n",
            "random stranger 2152\n",
            "chatting random 2115\n",
            "shoulderre chatting 2113\n",
            "stranger say 2100\n",
            "itaparent shoulder 2085\n",
            "look like 2068\n",
            "youaparent shoulderre 1967\n",
            "parent shouldersible 1956\n",
            "dont think 1576\n",
            "aparent shoulder 1552\n",
            "say hi 1496\n",
            "im syoure 1495\n",
            "drug choiceument 1480\n",
            "dont want 1466\n",
            "loudolaughing loudlaughing 1458\n",
            "loudoolaughing loudolaughing 1454\n",
            "soul ginger 1419\n",
            "ginger soul 1414\n",
            "whataparent shoulder 1397\n",
            "shoulderaparent shoulder 1364\n",
            "aparent shoulderaparent 1322\n",
            "shoulderaparent shoulderaparent 1310\n",
            "im going 1306\n",
            "ask question 1240\n",
            "2533048022 2533048022 1173\n",
            "represent omegle 1160\n",
            "message omegle 1155\n",
            "thataparent shoulder 1149\n",
            "shoulder stranger 1148\n",
            "omegle sent 1143\n"
          ],
          "name": "stdout"
        },
        {
          "output_type": "execute_result",
          "data": {
            "text/plain": [
              "<matplotlib.axes._subplots.AxesSubplot at 0x7f7a8f0862b0>"
            ]
          },
          "metadata": {
            "tags": []
          },
          "execution_count": 49
        },
        {
          "output_type": "display_data",
          "data": {
            "image/png": "[encoded data removed]",
            "text/plain": [
              "<Figure size 1080x720 with 1 Axes>"
            ]
          },
          "metadata": {
            "tags": []
          }
        }
      ]
    },
    {
      "cell_type": "code",
      "metadata": {
        "id": "D1fhGAN2kE21",
        "colab_type": "code",
        "outputId": "da6d3169-1660-47e1-d9a7-b3b3e4f7fd96",
        "colab": {
          "base_uri": "https://localhost:8080/",
          "height": 51
        }
      },
      "source": [
        "from sklearn.feature_extraction.text import CountVectorizer\n",
        "bow = CountVectorizer(max_features=1000, lowercase=True, ngram_range=(1,1),analyzer = \"word\")\n",
        "train_bow = bow.fit_transform(pan['text_clean'])\n",
        "train_bow"
      ],
      "execution_count": 0,
      "outputs": [
        {
          "output_type": "execute_result",
          "data": {
            "text/plain": [
              "<880156x1000 sparse matrix of type '<class 'numpy.int64'>'\n",
              "\twith 1919222 stored elements in Compressed Sparse Row format>"
            ]
          },
          "metadata": {
            "tags": []
          },
          "execution_count": 50
        }
      ]
    },
    {
      "cell_type": "markdown",
      "metadata": {
        "id": "85v_1eJIsw1J",
        "colab_type": "text"
      },
      "source": [
        "## Sentiment Analysis"
      ]
    },
    {
      "cell_type": "code",
      "metadata": {
        "id": "GK7eCH1vovN1",
        "colab_type": "code",
        "outputId": "42eabe52-624d-4bd3-e3b8-e56a4ed5fdce",
        "colab": {
          "base_uri": "https://localhost:8080/",
          "height": 119
        }
      },
      "source": [
        "pan['text_clean'][:5].apply(lambda x: TextBlob(x).sentiment)"
      ],
      "execution_count": 0,
      "outputs": [
        {
          "output_type": "execute_result",
          "data": {
            "text/plain": [
              "0    (0.0, 0.0)\n",
              "1    (0.0, 0.0)\n",
              "2    (0.0, 0.0)\n",
              "3    (0.0, 0.0)\n",
              "4    (0.0, 0.0)\n",
              "Name: text_clean, dtype: object"
            ]
          },
          "metadata": {
            "tags": []
          },
          "execution_count": 51
        }
      ]
    },
    {
      "cell_type": "code",
      "metadata": {
        "id": "fRHukzxis2tK",
        "colab_type": "code",
        "outputId": "ef495bfd-3160-4824-de9b-26f2d56b4e37",
        "colab": {
          "base_uri": "https://localhost:8080/",
          "height": 204
        }
      },
      "source": [
        "pan['sentiment'] = pan['text_clean'].apply(lambda x: TextBlob(x).sentiment[0] )\n",
        "pan[['text_clean','sentiment']].head()"
      ],
      "execution_count": 0,
      "outputs": [
        {
          "output_type": "execute_result",
          "data": {
            "text/html": [
              "<div>\n",
              "<style scoped>\n",
              "    .dataframe tbody tr th:only-of-type {\n",
              "        vertical-align: middle;\n",
              "    }\n",
              "\n",
              "    .dataframe tbody tr th {\n",
              "        vertical-align: top;\n",
              "    }\n",
              "\n",
              "    .dataframe thead th {\n",
              "        text-align: right;\n",
              "    }\n",
              "</style>\n",
              "<table border=\"1\" class=\"dataframe\">\n",
              "  <thead>\n",
              "    <tr style=\"text-align: right;\">\n",
              "      <th></th>\n",
              "      <th>text_clean</th>\n",
              "      <th>sentiment</th>\n",
              "    </tr>\n",
              "  </thead>\n",
              "  <tbody>\n",
              "    <tr>\n",
              "      <th>0</th>\n",
              "      <td>hola</td>\n",
              "      <td>0.0</td>\n",
              "    </tr>\n",
              "    <tr>\n",
              "      <th>1</th>\n",
              "      <td>hi</td>\n",
              "      <td>0.0</td>\n",
              "    </tr>\n",
              "    <tr>\n",
              "      <th>2</th>\n",
              "      <td>whats</td>\n",
              "      <td>0.0</td>\n",
              "    </tr>\n",
              "    <tr>\n",
              "      <th>3</th>\n",
              "      <td>ton</td>\n",
              "      <td>0.0</td>\n",
              "    </tr>\n",
              "    <tr>\n",
              "      <th>4</th>\n",
              "      <td></td>\n",
              "      <td>0.0</td>\n",
              "    </tr>\n",
              "  </tbody>\n",
              "</table>\n",
              "</div>"
            ],
            "text/plain": [
              "  text_clean  sentiment\n",
              "0       hola        0.0\n",
              "1         hi        0.0\n",
              "2      whats        0.0\n",
              "3        ton        0.0\n",
              "4                   0.0"
            ]
          },
          "metadata": {
            "tags": []
          },
          "execution_count": 52
        }
      ]
    },
    {
      "cell_type": "code",
      "metadata": {
        "id": "MWiNK7F5lBSP",
        "colab_type": "code",
        "outputId": "e82a020c-04c4-4482-e9bd-86c6a5eee276",
        "colab": {
          "base_uri": "https://localhost:8080/",
          "height": 667
        }
      },
      "source": [
        "windows_size = 100\n",
        "tokenizer = Tokenizer(num_words=vocab_size)\n",
        "tokenizer.fit_on_texts(pan['text_clean']) # fit_on_texts creates the vocabulary index based on word frequency.\n",
        "#The cat sat on the mat.\" It will create a dictionary s.t. word_index[\"the\"] = 1; word_index[\"cat\"] = 2 it is word -> index dictionary so every word gets a unique integer value. 0 is reserved for padding. So lower integer means more frequent word \n",
        "\n",
        "tokenizer.fit_on_sequences(pan['text_clean']) #texts_to_sequences Transforms each text in texts to a sequence of integers. So it basically takes each word in the text and replaces it with its corresponding integer value from the word_index dictionary.\n",
        "\n",
        "pan['t_text_clean'] = tokenizer.texts_to_sequences(pan['text_clean'])\n",
        "pan.head(15)"
      ],
      "execution_count": 0,
      "outputs": [
        {
          "output_type": "execute_result",
          "data": {
            "text/html": [
              "<div>\n",
              "<style scoped>\n",
              "    .dataframe tbody tr th:only-of-type {\n",
              "        vertical-align: middle;\n",
              "    }\n",
              "\n",
              "    .dataframe tbody tr th {\n",
              "        vertical-align: top;\n",
              "    }\n",
              "\n",
              "    .dataframe thead th {\n",
              "        text-align: right;\n",
              "    }\n",
              "</style>\n",
              "<table border=\"1\" class=\"dataframe\">\n",
              "  <thead>\n",
              "    <tr style=\"text-align: right;\">\n",
              "      <th></th>\n",
              "      <th>id</th>\n",
              "      <th>line</th>\n",
              "      <th>author</th>\n",
              "      <th>time</th>\n",
              "      <th>text</th>\n",
              "      <th>word_count</th>\n",
              "      <th>char_count</th>\n",
              "      <th>stopwords</th>\n",
              "      <th>text_clean</th>\n",
              "      <th>sentiment</th>\n",
              "      <th>t_text_clean</th>\n",
              "    </tr>\n",
              "  </thead>\n",
              "  <tbody>\n",
              "    <tr>\n",
              "      <th>0</th>\n",
              "      <td>e621da5de598c9321a1d505ea95e6a2d</td>\n",
              "      <td>1</td>\n",
              "      <td>97964e7a9e8eb9cf78f2e4d7b2ff34c7</td>\n",
              "      <td>03:20</td>\n",
              "      <td>Hola</td>\n",
              "      <td>1</td>\n",
              "      <td>5</td>\n",
              "      <td>0</td>\n",
              "      <td>hola</td>\n",
              "      <td>0.000</td>\n",
              "      <td>[1535]</td>\n",
              "    </tr>\n",
              "    <tr>\n",
              "      <th>1</th>\n",
              "      <td>e621da5de598c9321a1d505ea95e6a2d</td>\n",
              "      <td>2</td>\n",
              "      <td>0158d0d6781fingers crossed4d493f243d4caa49747</td>\n",
              "      <td>03:20</td>\n",
              "      <td>hi</td>\n",
              "      <td>1</td>\n",
              "      <td>3</td>\n",
              "      <td>0</td>\n",
              "      <td>hi</td>\n",
              "      <td>0.000</td>\n",
              "      <td>[2]</td>\n",
              "    </tr>\n",
              "    <tr>\n",
              "      <th>2</th>\n",
              "      <td>e621da5de598c9321a1d505ea95e6a2d</td>\n",
              "      <td>3</td>\n",
              "      <td>0158d0d6781fingers crossed4d493f243d4caa49747</td>\n",
              "      <td>03:20</td>\n",
              "      <td>whats up</td>\n",
              "      <td>2</td>\n",
              "      <td>9</td>\n",
              "      <td>0</td>\n",
              "      <td>whats</td>\n",
              "      <td>0.000</td>\n",
              "      <td>[75]</td>\n",
              "    </tr>\n",
              "    <tr>\n",
              "      <th>3</th>\n",
              "      <td>e621da5de598c9321a1d505ea95e6a2d</td>\n",
              "      <td>4</td>\n",
              "      <td>97964e7a9e8eb9cf78f2e4d7b2ff34c7</td>\n",
              "      <td>03:20</td>\n",
              "      <td>not a ton</td>\n",
              "      <td>3</td>\n",
              "      <td>10</td>\n",
              "      <td>2</td>\n",
              "      <td>ton</td>\n",
              "      <td>0.000</td>\n",
              "      <td>[2176]</td>\n",
              "    </tr>\n",
              "    <tr>\n",
              "      <th>4</th>\n",
              "      <td>e621da5de598c9321a1d505ea95e6a2d</td>\n",
              "      <td>5</td>\n",
              "      <td>97964e7a9e8eb9cf78f2e4d7b2ff34c7</td>\n",
              "      <td>03:20</td>\n",
              "      <td>you</td>\n",
              "      <td>1</td>\n",
              "      <td>4</td>\n",
              "      <td>0</td>\n",
              "      <td></td>\n",
              "      <td>0.000</td>\n",
              "      <td>[]</td>\n",
              "    </tr>\n",
              "    <tr>\n",
              "      <th>5</th>\n",
              "      <td>e621da5de598c9321a1d505ea95e6a2d</td>\n",
              "      <td>6</td>\n",
              "      <td>0158d0d6781fingers crossed4d493f243d4caa49747</td>\n",
              "      <td>03:20</td>\n",
              "      <td>same  being lazy  M or f</td>\n",
              "      <td>8</td>\n",
              "      <td>27</td>\n",
              "      <td>2</td>\n",
              "      <td>lazy f</td>\n",
              "      <td>-0.250</td>\n",
              "      <td>[1793, 30]</td>\n",
              "    </tr>\n",
              "    <tr>\n",
              "      <th>6</th>\n",
              "      <td>e621da5de598c9321a1d505ea95e6a2d</td>\n",
              "      <td>7</td>\n",
              "      <td>97964e7a9e8eb9cf78f2e4d7b2ff34c7</td>\n",
              "      <td>03:20</td>\n",
              "      <td>F</td>\n",
              "      <td>1</td>\n",
              "      <td>2</td>\n",
              "      <td>0</td>\n",
              "      <td>f</td>\n",
              "      <td>0.000</td>\n",
              "      <td>[30]</td>\n",
              "    </tr>\n",
              "    <tr>\n",
              "      <th>7</th>\n",
              "      <td>e621da5de598c9321a1d505ea95e6a2d</td>\n",
              "      <td>8</td>\n",
              "      <td>97964e7a9e8eb9cf78f2e4d7b2ff34c7</td>\n",
              "      <td>03:21</td>\n",
              "      <td>Ditto Iaparent over shoulderve done absolutely...</td>\n",
              "      <td>13</td>\n",
              "      <td>84</td>\n",
              "      <td>3</td>\n",
              "      <td>ditto iaparent shoulderve done absolutely noth...</td>\n",
              "      <td>0.200</td>\n",
              "      <td>[8327, 37, 627, 225, 2162, 204, 147, 1650, 113...</td>\n",
              "    </tr>\n",
              "    <tr>\n",
              "      <th>8</th>\n",
              "      <td>e621da5de598c9321a1d505ea95e6a2d</td>\n",
              "      <td>9</td>\n",
              "      <td>0158d0d6781fingers crossed4d493f243d4caa49747</td>\n",
              "      <td>03:21</td>\n",
              "      <td>M here  Just got home from weekend trip  Tired</td>\n",
              "      <td>11</td>\n",
              "      <td>49</td>\n",
              "      <td>1</td>\n",
              "      <td>got home weekend trip tired</td>\n",
              "      <td>-0.400</td>\n",
              "      <td>[39, 302, 1088, 2656, 1114]</td>\n",
              "    </tr>\n",
              "    <tr>\n",
              "      <th>9</th>\n",
              "      <td>e621da5de598c9321a1d505ea95e6a2d</td>\n",
              "      <td>10</td>\n",
              "      <td>97964e7a9e8eb9cf78f2e4d7b2ff34c7</td>\n",
              "      <td>03:21</td>\n",
              "      <td>Oh cool Fami love you thing</td>\n",
              "      <td>4</td>\n",
              "      <td>23</td>\n",
              "      <td>0</td>\n",
              "      <td>oh cool fami love thing</td>\n",
              "      <td>0.425</td>\n",
              "      <td>[29, 53, 1352, 73, 43]</td>\n",
              "    </tr>\n",
              "    <tr>\n",
              "      <th>10</th>\n",
              "      <td>e621da5de598c9321a1d505ea95e6a2d</td>\n",
              "      <td>11</td>\n",
              "      <td>0158d0d6781fingers crossed4d493f243d4caa49747</td>\n",
              "      <td>03:22</td>\n",
              "      <td>yeah</td>\n",
              "      <td>1</td>\n",
              "      <td>5</td>\n",
              "      <td>0</td>\n",
              "      <td>yeah</td>\n",
              "      <td>0.000</td>\n",
              "      <td>[21]</td>\n",
              "    </tr>\n",
              "    <tr>\n",
              "      <th>11</th>\n",
              "      <td>e621da5de598c9321a1d505ea95e6a2d</td>\n",
              "      <td>12</td>\n",
              "      <td>0158d0d6781fingers crossed4d493f243d4caa49747</td>\n",
              "      <td>03:22</td>\n",
              "      <td>a amp l</td>\n",
              "      <td>3</td>\n",
              "      <td>10</td>\n",
              "      <td>1</td>\n",
              "      <td>amp l</td>\n",
              "      <td>0.000</td>\n",
              "      <td>[558, 533]</td>\n",
              "    </tr>\n",
              "    <tr>\n",
              "      <th>12</th>\n",
              "      <td>e621da5de598c9321a1d505ea95e6a2d</td>\n",
              "      <td>13</td>\n",
              "      <td>97964e7a9e8eb9cf78f2e4d7b2ff34c7</td>\n",
              "      <td>03:22</td>\n",
              "      <td>Gotta love those</td>\n",
              "      <td>3</td>\n",
              "      <td>17</td>\n",
              "      <td>0</td>\n",
              "      <td>got love</td>\n",
              "      <td>0.500</td>\n",
              "      <td>[39, 73]</td>\n",
              "    </tr>\n",
              "    <tr>\n",
              "      <th>13</th>\n",
              "      <td>e621da5de598c9321a1d505ea95e6a2d</td>\n",
              "      <td>14</td>\n",
              "      <td>97964e7a9e8eb9cf78f2e4d7b2ff34c7</td>\n",
              "      <td>03:22</td>\n",
              "      <td>17 Hawaii</td>\n",
              "      <td>2</td>\n",
              "      <td>11</td>\n",
              "      <td>0</td>\n",
              "      <td>17 hawaii</td>\n",
              "      <td>0.000</td>\n",
              "      <td>[166, 5691]</td>\n",
              "    </tr>\n",
              "    <tr>\n",
              "      <th>14</th>\n",
              "      <td>e621da5de598c9321a1d505ea95e6a2d</td>\n",
              "      <td>15</td>\n",
              "      <td>97964e7a9e8eb9cf78f2e4d7b2ff34c7</td>\n",
              "      <td>03:23</td>\n",
              "      <td>and yoyourself</td>\n",
              "      <td>2</td>\n",
              "      <td>13</td>\n",
              "      <td>1</td>\n",
              "      <td>yoyourself</td>\n",
              "      <td>0.000</td>\n",
              "      <td>[444]</td>\n",
              "    </tr>\n",
              "  </tbody>\n",
              "</table>\n",
              "</div>"
            ],
            "text/plain": [
              "                                  id  ...                                       t_text_clean\n",
              "0   e621da5de598c9321a1d505ea95e6a2d  ...                                             [1535]\n",
              "1   e621da5de598c9321a1d505ea95e6a2d  ...                                                [2]\n",
              "2   e621da5de598c9321a1d505ea95e6a2d  ...                                               [75]\n",
              "3   e621da5de598c9321a1d505ea95e6a2d  ...                                             [2176]\n",
              "4   e621da5de598c9321a1d505ea95e6a2d  ...                                                 []\n",
              "5   e621da5de598c9321a1d505ea95e6a2d  ...                                         [1793, 30]\n",
              "6   e621da5de598c9321a1d505ea95e6a2d  ...                                               [30]\n",
              "7   e621da5de598c9321a1d505ea95e6a2d  ...  [8327, 37, 627, 225, 2162, 204, 147, 1650, 113...\n",
              "8   e621da5de598c9321a1d505ea95e6a2d  ...                        [39, 302, 1088, 2656, 1114]\n",
              "9   e621da5de598c9321a1d505ea95e6a2d  ...                             [29, 53, 1352, 73, 43]\n",
              "10  e621da5de598c9321a1d505ea95e6a2d  ...                                               [21]\n",
              "11  e621da5de598c9321a1d505ea95e6a2d  ...                                         [558, 533]\n",
              "12  e621da5de598c9321a1d505ea95e6a2d  ...                                           [39, 73]\n",
              "13  e621da5de598c9321a1d505ea95e6a2d  ...                                        [166, 5691]\n",
              "14  e621da5de598c9321a1d505ea95e6a2d  ...                                              [444]\n",
              "\n",
              "[15 rows x 11 columns]"
            ]
          },
          "metadata": {
            "tags": []
          },
          "execution_count": 53
        }
      ]
    },
    {
      "cell_type": "markdown",
      "metadata": {
        "id": "q5A_atrNqHXG",
        "colab_type": "text"
      },
      "source": [
        "### Padding the sequences to a window length of 100 ( due to the variable size of sentences)"
      ]
    },
    {
      "cell_type": "code",
      "metadata": {
        "id": "qNziilzuqGnR",
        "colab_type": "code",
        "colab": {}
      },
      "source": [
        "pan[\"t_text_clean\"] = pad_sequences(pan[\"t_text_clean\"], value=0, padding=\"post\", maxlen=windows_size).tolist()\n",
        "pan.drop(pan[pan[\"t_text_clean\"].map(len) > 100].index, inplace = True)"
      ],
      "execution_count": 0,
      "outputs": []
    },
    {
      "cell_type": "code",
      "metadata": {
        "id": "TEc5ODZEq9HT",
        "colab_type": "code",
        "outputId": "65f03d98-28b4-42af-ffdc-081180600216",
        "colab": {
          "base_uri": "https://localhost:8080/",
          "height": 589
        }
      },
      "source": [
        "pan"
      ],
      "execution_count": 0,
      "outputs": [
        {
          "output_type": "execute_result",
          "data": {
            "text/html": [
              "<div>\n",
              "<style scoped>\n",
              "    .dataframe tbody tr th:only-of-type {\n",
              "        vertical-align: middle;\n",
              "    }\n",
              "\n",
              "    .dataframe tbody tr th {\n",
              "        vertical-align: top;\n",
              "    }\n",
              "\n",
              "    .dataframe thead th {\n",
              "        text-align: right;\n",
              "    }\n",
              "</style>\n",
              "<table border=\"1\" class=\"dataframe\">\n",
              "  <thead>\n",
              "    <tr style=\"text-align: right;\">\n",
              "      <th></th>\n",
              "      <th>id</th>\n",
              "      <th>line</th>\n",
              "      <th>author</th>\n",
              "      <th>time</th>\n",
              "      <th>text</th>\n",
              "      <th>word_count</th>\n",
              "      <th>char_count</th>\n",
              "      <th>stopwords</th>\n",
              "      <th>text_clean</th>\n",
              "      <th>sentiment</th>\n",
              "      <th>t_text_clean</th>\n",
              "    </tr>\n",
              "  </thead>\n",
              "  <tbody>\n",
              "    <tr>\n",
              "      <th>0</th>\n",
              "      <td>e621da5de598c9321a1d505ea95e6a2d</td>\n",
              "      <td>1</td>\n",
              "      <td>97964e7a9e8eb9cf78f2e4d7b2ff34c7</td>\n",
              "      <td>03:20</td>\n",
              "      <td>Hola</td>\n",
              "      <td>1</td>\n",
              "      <td>5</td>\n",
              "      <td>0</td>\n",
              "      <td>hola</td>\n",
              "      <td>0.0</td>\n",
              "      <td>[1535, 0, 0, 0, 0, 0, 0, 0, 0, 0, 0, 0, 0, 0, ...</td>\n",
              "    </tr>\n",
              "    <tr>\n",
              "      <th>1</th>\n",
              "      <td>e621da5de598c9321a1d505ea95e6a2d</td>\n",
              "      <td>2</td>\n",
              "      <td>0158d0d6781fingers crossed4d493f243d4caa49747</td>\n",
              "      <td>03:20</td>\n",
              "      <td>hi</td>\n",
              "      <td>1</td>\n",
              "      <td>3</td>\n",
              "      <td>0</td>\n",
              "      <td>hi</td>\n",
              "      <td>0.0</td>\n",
              "      <td>[2, 0, 0, 0, 0, 0, 0, 0, 0, 0, 0, 0, 0, 0, 0, ...</td>\n",
              "    </tr>\n",
              "    <tr>\n",
              "      <th>2</th>\n",
              "      <td>e621da5de598c9321a1d505ea95e6a2d</td>\n",
              "      <td>3</td>\n",
              "      <td>0158d0d6781fingers crossed4d493f243d4caa49747</td>\n",
              "      <td>03:20</td>\n",
              "      <td>whats up</td>\n",
              "      <td>2</td>\n",
              "      <td>9</td>\n",
              "      <td>0</td>\n",
              "      <td>whats</td>\n",
              "      <td>0.0</td>\n",
              "      <td>[75, 0, 0, 0, 0, 0, 0, 0, 0, 0, 0, 0, 0, 0, 0,...</td>\n",
              "    </tr>\n",
              "    <tr>\n",
              "      <th>3</th>\n",
              "      <td>e621da5de598c9321a1d505ea95e6a2d</td>\n",
              "      <td>4</td>\n",
              "      <td>97964e7a9e8eb9cf78f2e4d7b2ff34c7</td>\n",
              "      <td>03:20</td>\n",
              "      <td>not a ton</td>\n",
              "      <td>3</td>\n",
              "      <td>10</td>\n",
              "      <td>2</td>\n",
              "      <td>ton</td>\n",
              "      <td>0.0</td>\n",
              "      <td>[2176, 0, 0, 0, 0, 0, 0, 0, 0, 0, 0, 0, 0, 0, ...</td>\n",
              "    </tr>\n",
              "    <tr>\n",
              "      <th>4</th>\n",
              "      <td>e621da5de598c9321a1d505ea95e6a2d</td>\n",
              "      <td>5</td>\n",
              "      <td>97964e7a9e8eb9cf78f2e4d7b2ff34c7</td>\n",
              "      <td>03:20</td>\n",
              "      <td>you</td>\n",
              "      <td>1</td>\n",
              "      <td>4</td>\n",
              "      <td>0</td>\n",
              "      <td></td>\n",
              "      <td>0.0</td>\n",
              "      <td>[0, 0, 0, 0, 0, 0, 0, 0, 0, 0, 0, 0, 0, 0, 0, ...</td>\n",
              "    </tr>\n",
              "    <tr>\n",
              "      <th>...</th>\n",
              "      <td>...</td>\n",
              "      <td>...</td>\n",
              "      <td>...</td>\n",
              "      <td>...</td>\n",
              "      <td>...</td>\n",
              "      <td>...</td>\n",
              "      <td>...</td>\n",
              "      <td>...</td>\n",
              "      <td>...</td>\n",
              "      <td>...</td>\n",
              "      <td>...</td>\n",
              "    </tr>\n",
              "    <tr>\n",
              "      <th>880151</th>\n",
              "      <td>4ed6b02ae537fdfd6078597b706292a8</td>\n",
              "      <td>101</td>\n",
              "      <td>74boyfriendingers crossed043bd5ce9c17b37ffae6e...</td>\n",
              "      <td>22:36</td>\n",
              "      <td>oh ok</td>\n",
              "      <td>2</td>\n",
              "      <td>5</td>\n",
              "      <td>0</td>\n",
              "      <td>oh ok</td>\n",
              "      <td>0.5</td>\n",
              "      <td>[29, 12, 0, 0, 0, 0, 0, 0, 0, 0, 0, 0, 0, 0, 0...</td>\n",
              "    </tr>\n",
              "    <tr>\n",
              "      <th>880152</th>\n",
              "      <td>4ed6b02ae537fdfd6078597b706292a8</td>\n",
              "      <td>102</td>\n",
              "      <td>8cd850ea4215ee7c4b94b6bcc0bae593</td>\n",
              "      <td>22:36</td>\n",
              "      <td>i will look for you tomorrow</td>\n",
              "      <td>6</td>\n",
              "      <td>28</td>\n",
              "      <td>4</td>\n",
              "      <td>look tomorrow</td>\n",
              "      <td>0.0</td>\n",
              "      <td>[59, 530, 0, 0, 0, 0, 0, 0, 0, 0, 0, 0, 0, 0, ...</td>\n",
              "    </tr>\n",
              "    <tr>\n",
              "      <th>880153</th>\n",
              "      <td>4ed6b02ae537fdfd6078597b706292a8</td>\n",
              "      <td>103</td>\n",
              "      <td>74boyfriendingers crossed043bd5ce9c17b37ffae6e...</td>\n",
              "      <td>22:36</td>\n",
              "      <td>ok</td>\n",
              "      <td>1</td>\n",
              "      <td>2</td>\n",
              "      <td>0</td>\n",
              "      <td>ok</td>\n",
              "      <td>0.5</td>\n",
              "      <td>[12, 0, 0, 0, 0, 0, 0, 0, 0, 0, 0, 0, 0, 0, 0,...</td>\n",
              "    </tr>\n",
              "    <tr>\n",
              "      <th>880154</th>\n",
              "      <td>4ed6b02ae537fdfd6078597b706292a8</td>\n",
              "      <td>104</td>\n",
              "      <td>8cd850ea4215ee7c4b94b6bcc0bae593</td>\n",
              "      <td>22:36</td>\n",
              "      <td>bye lissa</td>\n",
              "      <td>2</td>\n",
              "      <td>9</td>\n",
              "      <td>0</td>\n",
              "      <td>bye lissa</td>\n",
              "      <td>0.0</td>\n",
              "      <td>[259, 26054, 0, 0, 0, 0, 0, 0, 0, 0, 0, 0, 0, ...</td>\n",
              "    </tr>\n",
              "    <tr>\n",
              "      <th>880155</th>\n",
              "      <td>4ed6b02ae537fdfd6078597b706292a8</td>\n",
              "      <td>105</td>\n",
              "      <td>74boyfriendingers crossed043bd5ce9c17b37ffae6e...</td>\n",
              "      <td>22:37</td>\n",
              "      <td>bye jake</td>\n",
              "      <td>2</td>\n",
              "      <td>8</td>\n",
              "      <td>0</td>\n",
              "      <td>bye jake</td>\n",
              "      <td>0.0</td>\n",
              "      <td>[259, 5807, 0, 0, 0, 0, 0, 0, 0, 0, 0, 0, 0, 0...</td>\n",
              "    </tr>\n",
              "  </tbody>\n",
              "</table>\n",
              "<p>880156 rows × 11 columns</p>\n",
              "</div>"
            ],
            "text/plain": [
              "                                      id  ...                                       t_text_clean\n",
              "0       e621da5de598c9321a1d505ea95e6a2d  ...  [1535, 0, 0, 0, 0, 0, 0, 0, 0, 0, 0, 0, 0, 0, ...\n",
              "1       e621da5de598c9321a1d505ea95e6a2d  ...  [2, 0, 0, 0, 0, 0, 0, 0, 0, 0, 0, 0, 0, 0, 0, ...\n",
              "2       e621da5de598c9321a1d505ea95e6a2d  ...  [75, 0, 0, 0, 0, 0, 0, 0, 0, 0, 0, 0, 0, 0, 0,...\n",
              "3       e621da5de598c9321a1d505ea95e6a2d  ...  [2176, 0, 0, 0, 0, 0, 0, 0, 0, 0, 0, 0, 0, 0, ...\n",
              "4       e621da5de598c9321a1d505ea95e6a2d  ...  [0, 0, 0, 0, 0, 0, 0, 0, 0, 0, 0, 0, 0, 0, 0, ...\n",
              "...                                  ...  ...                                                ...\n",
              "880151  4ed6b02ae537fdfd6078597b706292a8  ...  [29, 12, 0, 0, 0, 0, 0, 0, 0, 0, 0, 0, 0, 0, 0...\n",
              "880152  4ed6b02ae537fdfd6078597b706292a8  ...  [59, 530, 0, 0, 0, 0, 0, 0, 0, 0, 0, 0, 0, 0, ...\n",
              "880153  4ed6b02ae537fdfd6078597b706292a8  ...  [12, 0, 0, 0, 0, 0, 0, 0, 0, 0, 0, 0, 0, 0, 0,...\n",
              "880154  4ed6b02ae537fdfd6078597b706292a8  ...  [259, 26054, 0, 0, 0, 0, 0, 0, 0, 0, 0, 0, 0, ...\n",
              "880155  4ed6b02ae537fdfd6078597b706292a8  ...  [259, 5807, 0, 0, 0, 0, 0, 0, 0, 0, 0, 0, 0, 0...\n",
              "\n",
              "[880156 rows x 11 columns]"
            ]
          },
          "metadata": {
            "tags": []
          },
          "execution_count": 55
        }
      ]
    },
    {
      "cell_type": "code",
      "metadata": {
        "id": "ZT9BTYQjtPfj",
        "colab_type": "code",
        "colab": {}
      },
      "source": [
        "embeddings_index = dict()\n",
        "f = open('/content/drive/My Drive/glove.6B.100d.txt', encoding=\"utf8\")\n",
        "for line in f:\n",
        "    values = line.split()\n",
        "    word = values[0]\n",
        "    coefs = np.asarray(values[1:], dtype='float32')\n",
        "    embeddings_index[word] = coefs\n",
        "f.close()\n",
        "\n"
      ],
      "execution_count": 0,
      "outputs": []
    },
    {
      "cell_type": "code",
      "metadata": {
        "id": "kPLb3XiXd8cX",
        "colab_type": "code",
        "colab": {}
      },
      "source": [
        "def fill_embedding_matrix(tokenizer):\n",
        "    vocab_size = len(tokenizer.word_index) # tokenizer.word_index is the list that consist of all the unique words\n",
        "    embedding_matrix = np.zeros((vocab_size+1, 100)) # creating an embedding matrix\n",
        "    for word, i in tokenizer.word_index.items():\n",
        "        embedding_vector = embeddings_index.get(word)\n",
        "        if embedding_vector is not None:        \n",
        "            embedding_matrix[i] = embedding_vector\n",
        "    return embedding_matrix"
      ],
      "execution_count": 0,
      "outputs": []
    },
    {
      "cell_type": "code",
      "metadata": {
        "id": "EzdePeKqd-Su",
        "colab_type": "code",
        "outputId": "370fccb6-924a-4813-caac-675550bebabd",
        "colab": {
          "base_uri": "https://localhost:8080/",
          "height": 34
        }
      },
      "source": [
        "embedding_matrix_lp = fill_embedding_matrix(tokenizer)\n",
        "embedding_matrix_lp.shape"
      ],
      "execution_count": 0,
      "outputs": [
        {
          "output_type": "execute_result",
          "data": {
            "text/plain": [
              "(209133, 100)"
            ]
          },
          "metadata": {
            "tags": []
          },
          "execution_count": 58
        }
      ]
    },
    {
      "cell_type": "code",
      "metadata": {
        "id": "jbKzN-mQe6vY",
        "colab_type": "code",
        "colab": {}
      },
      "source": [
        "train_a =np.stack(pan['t_text_clean'])\n",
        "train_y =np.stack(pan['sentiment'])"
      ],
      "execution_count": 0,
      "outputs": []
    },
    {
      "cell_type": "code",
      "metadata": {
        "id": "qx1BhqDbi42b",
        "colab_type": "code",
        "colab": {}
      },
      "source": [
        "early_stopping = EarlyStopping(monitor='val_loss', patience=3)"
      ],
      "execution_count": 0,
      "outputs": []
    },
    {
      "cell_type": "code",
      "metadata": {
        "id": "60bDg9hEjFC6",
        "colab_type": "code",
        "colab": {}
      },
      "source": [
        "answer_inp = Input(shape=(windows_size, ))\n",
        "embedding_size_glove = 100\n",
        "answer_emb1 = Embedding(vocab_size, embedding_size_glove, weights=[embedding_matrix_lp], input_length=windows_size, trainable=False)(answer_inp)"
      ],
      "execution_count": 0,
      "outputs": []
    },
    {
      "cell_type": "code",
      "metadata": {
        "id": "v1K9eFCGjIfd",
        "colab_type": "code",
        "outputId": "35b64ea2-2070-4cb9-cacc-864d04bc3064",
        "colab": {
          "base_uri": "https://localhost:8080/",
          "height": 629
        }
      },
      "source": [
        "bt = BatchNormalization()(answer_emb1)\n",
        "lstm = LSTM(embedding_size_glove, return_sequences=True, dropout=0.2, recurrent_dropout=0.2)(bt)\n",
        "\n",
        "dense1 = Dense(units=256, activation=\"relu\")(lstm)\n",
        "dense2 = Dense(units=256, activation=\"relu\")(dense1)\n",
        "\n",
        "flatten = Flatten()(dense2)\n",
        "\n",
        "out = Dense(1,  activation='softmax')(flatten)\n",
        "\n",
        "model = Model(inputs=[answer_inp], outputs=[out])\n",
        "model.compile(optimizer=\"adam\", loss='binary_crossentropy', metrics=['accuracy'])\n",
        "model.summary()"
      ],
      "execution_count": 0,
      "outputs": [
        {
          "output_type": "stream",
          "text": [
            "WARNING:tensorflow:From /usr/local/lib/python3.6/dist-packages/keras/backend/tensorflow_backend.py:148: The name tf.placeholder_with_default is deprecated. Please use tf.compat.v1.placeholder_with_default instead.\n",
            "\n",
            "WARNING:tensorflow:From /usr/local/lib/python3.6/dist-packages/keras/backend/tensorflow_backend.py:3733: calling dropout (from tensorflow.python.ops.nn_ops) with keep_prob is deprecated and will be removed in a future version.\n",
            "Instructions for updating:\n",
            "Please use `rate` instead of `keep_prob`. Rate should be set to `rate = 1 - keep_prob`.\n",
            "WARNING:tensorflow:From /usr/local/lib/python3.6/dist-packages/keras/optimizers.py:793: The name tf.train.Optimizer is deprecated. Please use tf.compat.v1.train.Optimizer instead.\n",
            "\n",
            "WARNING:tensorflow:From /usr/local/lib/python3.6/dist-packages/keras/backend/tensorflow_backend.py:3657: The name tf.log is deprecated. Please use tf.math.log instead.\n",
            "\n",
            "WARNING:tensorflow:From /usr/local/lib/python3.6/dist-packages/tensorflow_core/python/ops/nn_impl.py:183: where (from tensorflow.python.ops.array_ops) is deprecated and will be removed in a future version.\n",
            "Instructions for updating:\n",
            "Use tf.where in 2.0, which has the same broadcast rule as np.where\n",
            "Model: \"model_1\"\n",
            "_________________________________________________________________\n",
            "Layer (type)                 Output Shape              Param #   \n",
            "=================================================================\n",
            "input_3 (InputLayer)         (None, 100)               0         \n",
            "_________________________________________________________________\n",
            "embedding_2 (Embedding)      (None, 100, 100)          21018300  \n",
            "_________________________________________________________________\n",
            "batch_normalization_1 (Batch (None, 100, 100)          400       \n",
            "_________________________________________________________________\n",
            "lstm_1 (LSTM)                (None, 100, 100)          80400     \n",
            "_________________________________________________________________\n",
            "dense_1 (Dense)              (None, 100, 256)          25856     \n",
            "_________________________________________________________________\n",
            "dense_2 (Dense)              (None, 100, 256)          65792     \n",
            "_________________________________________________________________\n",
            "flatten_1 (Flatten)          (None, 25600)             0         \n",
            "_________________________________________________________________\n",
            "dense_3 (Dense)              (None, 1)                 25601     \n",
            "=================================================================\n",
            "Total params: 21,216,349\n",
            "Trainable params: 197,849\n",
            "Non-trainable params: 21,018,500\n",
            "_________________________________________________________________\n"
          ],
          "name": "stdout"
        }
      ]
    },
    {
      "cell_type": "code",
      "metadata": {
        "id": "lHw4sfZrvkdx",
        "colab_type": "code",
        "outputId": "6bc822c5-9d69-408e-d231-0eebb1d6453b",
        "colab": {
          "base_uri": "https://localhost:8080/",
          "height": 425
        }
      },
      "source": [
        "model_glove_lstm_hist = model.fit(train_a, train_y, validation_split=0.3, epochs=5, batch_size=1000, shuffle=True, callbacks=[early_stopping])"
      ],
      "execution_count": 0,
      "outputs": [
        {
          "output_type": "stream",
          "text": [
            "Train on 585728 samples, validate on 251027 samples\n",
            "Epoch 1/5\n",
            "585728/585728 [==============================] - 143s 244us/step - loss: 15.3946 - acc: 0.0031 - val_loss: 15.4072 - val_acc: 0.0029\n",
            "Epoch 2/5\n",
            "585728/585728 [==============================] - 142s 243us/step - loss: 15.3946 - acc: 0.0031 - val_loss: 15.4072 - val_acc: 0.0029\n",
            "Epoch 3/5\n",
            "146000/585728 [======>.......................] - ETA: 1:31 - loss: 15.3827 - acc: 0.0030"
          ],
          "name": "stdout"
        },
        {
          "output_type": "error",
          "ename": "KeyboardInterrupt",
          "evalue": "ignored",
          "traceback": [
            "\u001b[0;31m---------------------------------------------------------------------------\u001b[0m",
            "\u001b[0;31mKeyboardInterrupt\u001b[0m                         Traceback (most recent call last)",
            "\u001b[0;32m<ipython-input-80-b9a55c098cb2>\u001b[0m in \u001b[0;36m<module>\u001b[0;34m()\u001b[0m\n\u001b[0;32m----> 1\u001b[0;31m \u001b[0mmodel_glove_lstm_hist\u001b[0m \u001b[0;34m=\u001b[0m \u001b[0mmodel\u001b[0m\u001b[0;34m.\u001b[0m\u001b[0mfit\u001b[0m\u001b[0;34m(\u001b[0m\u001b[0mtrain_a\u001b[0m\u001b[0;34m,\u001b[0m \u001b[0mtrain_y\u001b[0m\u001b[0;34m,\u001b[0m \u001b[0mvalidation_split\u001b[0m\u001b[0;34m=\u001b[0m\u001b[0;36m0.3\u001b[0m\u001b[0;34m,\u001b[0m \u001b[0mepochs\u001b[0m\u001b[0;34m=\u001b[0m\u001b[0;36m5\u001b[0m\u001b[0;34m,\u001b[0m \u001b[0mbatch_size\u001b[0m\u001b[0;34m=\u001b[0m\u001b[0;36m1000\u001b[0m\u001b[0;34m,\u001b[0m \u001b[0mshuffle\u001b[0m\u001b[0;34m=\u001b[0m\u001b[0;32mTrue\u001b[0m\u001b[0;34m,\u001b[0m \u001b[0mcallbacks\u001b[0m\u001b[0;34m=\u001b[0m\u001b[0;34m[\u001b[0m\u001b[0mearly_stopping\u001b[0m\u001b[0;34m]\u001b[0m\u001b[0;34m)\u001b[0m\u001b[0;34m\u001b[0m\u001b[0;34m\u001b[0m\u001b[0m\n\u001b[0m",
            "\u001b[0;32m/usr/local/lib/python3.6/dist-packages/keras/engine/training.py\u001b[0m in \u001b[0;36mfit\u001b[0;34m(self, x, y, batch_size, epochs, verbose, callbacks, validation_split, validation_data, shuffle, class_weight, sample_weight, initial_epoch, steps_per_epoch, validation_steps, validation_freq, max_queue_size, workers, use_multiprocessing, **kwargs)\u001b[0m\n\u001b[1;32m   1176\u001b[0m                                         \u001b[0msteps_per_epoch\u001b[0m\u001b[0;34m=\u001b[0m\u001b[0msteps_per_epoch\u001b[0m\u001b[0;34m,\u001b[0m\u001b[0;34m\u001b[0m\u001b[0;34m\u001b[0m\u001b[0m\n\u001b[1;32m   1177\u001b[0m                                         \u001b[0mvalidation_steps\u001b[0m\u001b[0;34m=\u001b[0m\u001b[0mvalidation_steps\u001b[0m\u001b[0;34m,\u001b[0m\u001b[0;34m\u001b[0m\u001b[0;34m\u001b[0m\u001b[0m\n\u001b[0;32m-> 1178\u001b[0;31m                                         validation_freq=validation_freq)\n\u001b[0m\u001b[1;32m   1179\u001b[0m \u001b[0;34m\u001b[0m\u001b[0m\n\u001b[1;32m   1180\u001b[0m     def evaluate(self,\n",
            "\u001b[0;32m/usr/local/lib/python3.6/dist-packages/keras/engine/training_arrays.py\u001b[0m in \u001b[0;36mfit_loop\u001b[0;34m(model, fit_function, fit_inputs, out_labels, batch_size, epochs, verbose, callbacks, val_function, val_inputs, shuffle, callback_metrics, initial_epoch, steps_per_epoch, validation_steps, validation_freq)\u001b[0m\n\u001b[1;32m    202\u001b[0m                     \u001b[0mins_batch\u001b[0m\u001b[0;34m[\u001b[0m\u001b[0mi\u001b[0m\u001b[0;34m]\u001b[0m \u001b[0;34m=\u001b[0m \u001b[0mins_batch\u001b[0m\u001b[0;34m[\u001b[0m\u001b[0mi\u001b[0m\u001b[0;34m]\u001b[0m\u001b[0;34m.\u001b[0m\u001b[0mtoarray\u001b[0m\u001b[0;34m(\u001b[0m\u001b[0;34m)\u001b[0m\u001b[0;34m\u001b[0m\u001b[0;34m\u001b[0m\u001b[0m\n\u001b[1;32m    203\u001b[0m \u001b[0;34m\u001b[0m\u001b[0m\n\u001b[0;32m--> 204\u001b[0;31m                 \u001b[0mouts\u001b[0m \u001b[0;34m=\u001b[0m \u001b[0mfit_function\u001b[0m\u001b[0;34m(\u001b[0m\u001b[0mins_batch\u001b[0m\u001b[0;34m)\u001b[0m\u001b[0;34m\u001b[0m\u001b[0;34m\u001b[0m\u001b[0m\n\u001b[0m\u001b[1;32m    205\u001b[0m                 \u001b[0mouts\u001b[0m \u001b[0;34m=\u001b[0m \u001b[0mto_list\u001b[0m\u001b[0;34m(\u001b[0m\u001b[0mouts\u001b[0m\u001b[0;34m)\u001b[0m\u001b[0;34m\u001b[0m\u001b[0;34m\u001b[0m\u001b[0m\n\u001b[1;32m    206\u001b[0m                 \u001b[0;32mfor\u001b[0m \u001b[0ml\u001b[0m\u001b[0;34m,\u001b[0m \u001b[0mo\u001b[0m \u001b[0;32min\u001b[0m \u001b[0mzip\u001b[0m\u001b[0;34m(\u001b[0m\u001b[0mout_labels\u001b[0m\u001b[0;34m,\u001b[0m \u001b[0mouts\u001b[0m\u001b[0;34m)\u001b[0m\u001b[0;34m:\u001b[0m\u001b[0;34m\u001b[0m\u001b[0;34m\u001b[0m\u001b[0m\n",
            "\u001b[0;32m/usr/local/lib/python3.6/dist-packages/keras/backend/tensorflow_backend.py\u001b[0m in \u001b[0;36m__call__\u001b[0;34m(self, inputs)\u001b[0m\n\u001b[1;32m   2977\u001b[0m                     \u001b[0;32mreturn\u001b[0m \u001b[0mself\u001b[0m\u001b[0;34m.\u001b[0m\u001b[0m_legacy_call\u001b[0m\u001b[0;34m(\u001b[0m\u001b[0minputs\u001b[0m\u001b[0;34m)\u001b[0m\u001b[0;34m\u001b[0m\u001b[0;34m\u001b[0m\u001b[0m\n\u001b[1;32m   2978\u001b[0m \u001b[0;34m\u001b[0m\u001b[0m\n\u001b[0;32m-> 2979\u001b[0;31m             \u001b[0;32mreturn\u001b[0m \u001b[0mself\u001b[0m\u001b[0;34m.\u001b[0m\u001b[0m_call\u001b[0m\u001b[0;34m(\u001b[0m\u001b[0minputs\u001b[0m\u001b[0;34m)\u001b[0m\u001b[0;34m\u001b[0m\u001b[0;34m\u001b[0m\u001b[0m\n\u001b[0m\u001b[1;32m   2980\u001b[0m         \u001b[0;32melse\u001b[0m\u001b[0;34m:\u001b[0m\u001b[0;34m\u001b[0m\u001b[0;34m\u001b[0m\u001b[0m\n\u001b[1;32m   2981\u001b[0m             \u001b[0;32mif\u001b[0m \u001b[0mpy_any\u001b[0m\u001b[0;34m(\u001b[0m\u001b[0mis_tensor\u001b[0m\u001b[0;34m(\u001b[0m\u001b[0mx\u001b[0m\u001b[0;34m)\u001b[0m \u001b[0;32mfor\u001b[0m \u001b[0mx\u001b[0m \u001b[0;32min\u001b[0m \u001b[0minputs\u001b[0m\u001b[0;34m)\u001b[0m\u001b[0;34m:\u001b[0m\u001b[0;34m\u001b[0m\u001b[0;34m\u001b[0m\u001b[0m\n",
            "\u001b[0;32m/usr/local/lib/python3.6/dist-packages/keras/backend/tensorflow_backend.py\u001b[0m in \u001b[0;36m_call\u001b[0;34m(self, inputs)\u001b[0m\n\u001b[1;32m   2935\u001b[0m             \u001b[0mfetched\u001b[0m \u001b[0;34m=\u001b[0m \u001b[0mself\u001b[0m\u001b[0;34m.\u001b[0m\u001b[0m_callable_fn\u001b[0m\u001b[0;34m(\u001b[0m\u001b[0;34m*\u001b[0m\u001b[0marray_vals\u001b[0m\u001b[0;34m,\u001b[0m \u001b[0mrun_metadata\u001b[0m\u001b[0;34m=\u001b[0m\u001b[0mself\u001b[0m\u001b[0;34m.\u001b[0m\u001b[0mrun_metadata\u001b[0m\u001b[0;34m)\u001b[0m\u001b[0;34m\u001b[0m\u001b[0;34m\u001b[0m\u001b[0m\n\u001b[1;32m   2936\u001b[0m         \u001b[0;32melse\u001b[0m\u001b[0;34m:\u001b[0m\u001b[0;34m\u001b[0m\u001b[0;34m\u001b[0m\u001b[0m\n\u001b[0;32m-> 2937\u001b[0;31m             \u001b[0mfetched\u001b[0m \u001b[0;34m=\u001b[0m \u001b[0mself\u001b[0m\u001b[0;34m.\u001b[0m\u001b[0m_callable_fn\u001b[0m\u001b[0;34m(\u001b[0m\u001b[0;34m*\u001b[0m\u001b[0marray_vals\u001b[0m\u001b[0;34m)\u001b[0m\u001b[0;34m\u001b[0m\u001b[0;34m\u001b[0m\u001b[0m\n\u001b[0m\u001b[1;32m   2938\u001b[0m         \u001b[0;32mreturn\u001b[0m \u001b[0mfetched\u001b[0m\u001b[0;34m[\u001b[0m\u001b[0;34m:\u001b[0m\u001b[0mlen\u001b[0m\u001b[0;34m(\u001b[0m\u001b[0mself\u001b[0m\u001b[0;34m.\u001b[0m\u001b[0moutputs\u001b[0m\u001b[0;34m)\u001b[0m\u001b[0;34m]\u001b[0m\u001b[0;34m\u001b[0m\u001b[0;34m\u001b[0m\u001b[0m\n\u001b[1;32m   2939\u001b[0m \u001b[0;34m\u001b[0m\u001b[0m\n",
            "\u001b[0;32m/usr/local/lib/python3.6/dist-packages/tensorflow_core/python/client/session.py\u001b[0m in \u001b[0;36m__call__\u001b[0;34m(self, *args, **kwargs)\u001b[0m\n\u001b[1;32m   1470\u001b[0m         ret = tf_session.TF_SessionRunCallable(self._session._session,\n\u001b[1;32m   1471\u001b[0m                                                \u001b[0mself\u001b[0m\u001b[0;34m.\u001b[0m\u001b[0m_handle\u001b[0m\u001b[0;34m,\u001b[0m \u001b[0margs\u001b[0m\u001b[0;34m,\u001b[0m\u001b[0;34m\u001b[0m\u001b[0;34m\u001b[0m\u001b[0m\n\u001b[0;32m-> 1472\u001b[0;31m                                                run_metadata_ptr)\n\u001b[0m\u001b[1;32m   1473\u001b[0m         \u001b[0;32mif\u001b[0m \u001b[0mrun_metadata\u001b[0m\u001b[0;34m:\u001b[0m\u001b[0;34m\u001b[0m\u001b[0;34m\u001b[0m\u001b[0m\n\u001b[1;32m   1474\u001b[0m           \u001b[0mproto_data\u001b[0m \u001b[0;34m=\u001b[0m \u001b[0mtf_session\u001b[0m\u001b[0;34m.\u001b[0m\u001b[0mTF_GetBuffer\u001b[0m\u001b[0;34m(\u001b[0m\u001b[0mrun_metadata_ptr\u001b[0m\u001b[0;34m)\u001b[0m\u001b[0;34m\u001b[0m\u001b[0;34m\u001b[0m\u001b[0m\n",
            "\u001b[0;31mKeyboardInterrupt\u001b[0m: "
          ]
        }
      ]
    },
    {
      "cell_type": "code",
      "metadata": {
        "id": "HGLpKtakkojR",
        "colab_type": "code",
        "colab": {}
      },
      "source": [
        "def plot_acc(history, title=\"Model Accuracy\"):\n",
        "    plt.plot(history.history['acc'])\n",
        "    plt.plot(history.history['val_acc'])\n",
        "    plt.title(title)\n",
        "    plt.ylabel('Accuracy')\n",
        "    plt.xlabel('Epoch')\n",
        "    plt.legend(['Train', 'Val'], loc='upper left')\n",
        "    plt.show()\n",
        "    \n",
        "def plot_loss(history, title=\"Model Loss\"):\n",
        "    plt.plot(history.history['loss'])\n",
        "    plt.plot(history.history['val_loss'])\n",
        "    plt.title(title)\n",
        "    plt.ylabel('Loss')\n",
        "    plt.xlabel('Epoch')\n",
        "    plt.legend(['Train', 'Val'], loc='upper right')\n",
        "    plt.show()"
      ],
      "execution_count": 0,
      "outputs": []
    },
    {
      "cell_type": "code",
      "metadata": {
        "id": "wWpIxcG5k05g",
        "colab_type": "code",
        "colab": {}
      },
      "source": [
        "plot_loss(model_glove_lstm_hist)\n",
        "plot_acc(model_glove_lstm_hist)"
      ],
      "execution_count": 0,
      "outputs": []
    }
  ]
}